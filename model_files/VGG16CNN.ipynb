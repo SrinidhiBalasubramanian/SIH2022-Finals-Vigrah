{
 "cells": [
  {
   "cell_type": "code",
   "execution_count": 54,
   "metadata": {},
   "outputs": [],
   "source": [
    "# Importing required python libraries\n",
    "\n",
    "import tensorflow as tf\n",
    "import matplotlib.pyplot as plt\n",
    "import keras \n",
    "from keras.layers import Conv2D, Activation, MaxPooling2D, Dense, Dropout, Flatten\n",
    "import cv2\n",
    "#import cv2bb"
   ]
  },
  {
   "cell_type": "code",
   "execution_count": 56,
   "metadata": {},
   "outputs": [
    {
     "name": "stdout",
     "output_type": "stream",
     "text": [
      "Found 226955 files belonging to 214 classes.\n",
      "Using 158869 files for training.\n"
     ]
    }
   ],
   "source": [
    "# Obtaining Training Dataset from Local Directory\n",
    "\n",
    "train_data = tf.keras.utils.image_dataset_from_directory(\n",
    "    \"C:/Users/yash2/OneDrive/Desktop/IIIT Class/Hackathons/SIH 2022/SIH2022-Finals-Vigrah-main/SIH_Char\"\n",
    "    , labels = 'inferred'\n",
    "    , label_mode = 'int'\n",
    "    , image_size=(224, 224)\n",
    "    , color_mode = 'rgb'\n",
    "    , shuffle = True\n",
    "    , seed = 101\n",
    "    , validation_split = 0.3\n",
    "    , subset = \"training\"   \n",
    ")"
   ]
  },
  {
   "cell_type": "code",
   "execution_count": 57,
   "metadata": {},
   "outputs": [
    {
     "name": "stdout",
     "output_type": "stream",
     "text": [
      "Found 226955 files belonging to 214 classes.\n",
      "Using 68086 files for validation.\n"
     ]
    }
   ],
   "source": [
    "# Obtaining Validation Dataset from Local Directory\n",
    "\n",
    "val_data = tf.keras.utils.image_dataset_from_directory(\n",
    "    \"C:/Users/yash2/OneDrive/Desktop/IIIT Class/Hackathons/SIH 2022/SIH2022-Finals-Vigrah-main/SIH_Char\"\n",
    "    , labels = 'inferred'\n",
    "    , label_mode = 'int'\n",
    "    , image_size=(224, 224)\n",
    "    , color_mode = 'rgb'\n",
    "    , shuffle = True\n",
    "    , seed = 101\n",
    "    , validation_split = 0.3\n",
    "    , subset = \"validation\"   \n",
    ")"
   ]
  },
  {
   "cell_type": "code",
   "execution_count": 58,
   "metadata": {},
   "outputs": [
    {
     "data": {
      "text/plain": [
       "['a',\n",
       " 'ba',\n",
       " 'be',\n",
       " 'bha',\n",
       " 'bhe',\n",
       " 'bhi',\n",
       " 'bho',\n",
       " 'bhu',\n",
       " 'bhā',\n",
       " 'bhī',\n",
       " 'bhū',\n",
       " 'bi',\n",
       " 'bo',\n",
       " 'bu',\n",
       " 'bā',\n",
       " 'ca',\n",
       " 'ce',\n",
       " 'cha',\n",
       " 'che',\n",
       " 'chi',\n",
       " 'chu',\n",
       " 'chā',\n",
       " 'ci',\n",
       " 'co',\n",
       " 'cu',\n",
       " 'cā',\n",
       " 'cū',\n",
       " 'da',\n",
       " 'de',\n",
       " 'dha',\n",
       " 'dhe',\n",
       " 'dhi',\n",
       " 'dho',\n",
       " 'dhu',\n",
       " 'dhā',\n",
       " 'dhī',\n",
       " 'dhū',\n",
       " 'di',\n",
       " 'do',\n",
       " 'du',\n",
       " 'dā',\n",
       " 'dī',\n",
       " 'e',\n",
       " 'ga',\n",
       " 'ge',\n",
       " 'gha',\n",
       " 'ghe',\n",
       " 'gho',\n",
       " 'ghu',\n",
       " 'ghā',\n",
       " 'gi',\n",
       " 'go',\n",
       " 'gu',\n",
       " 'gā',\n",
       " 'ha',\n",
       " 'he',\n",
       " 'hi',\n",
       " 'ho',\n",
       " 'hu',\n",
       " 'hā',\n",
       " 'hī',\n",
       " 'hū',\n",
       " 'i',\n",
       " 'ja',\n",
       " 'je',\n",
       " 'jha',\n",
       " 'jhi',\n",
       " 'jhā',\n",
       " 'ji',\n",
       " 'jo',\n",
       " 'ju',\n",
       " 'jā',\n",
       " 'jī',\n",
       " 'jū',\n",
       " 'ka',\n",
       " 'ke',\n",
       " 'kha',\n",
       " 'khe',\n",
       " 'khi',\n",
       " 'kho',\n",
       " 'khu',\n",
       " 'khā',\n",
       " 'khī',\n",
       " 'ki',\n",
       " 'ko',\n",
       " 'ku',\n",
       " 'kā',\n",
       " 'kī',\n",
       " 'kū',\n",
       " 'la',\n",
       " 'le',\n",
       " 'li',\n",
       " 'lo',\n",
       " 'lu',\n",
       " 'lā',\n",
       " 'lī',\n",
       " 'lū',\n",
       " 'ma',\n",
       " 'me',\n",
       " 'mi',\n",
       " 'mo',\n",
       " 'mu',\n",
       " 'mā',\n",
       " 'mī',\n",
       " 'mū',\n",
       " 'na',\n",
       " 'ne',\n",
       " 'ni',\n",
       " 'no',\n",
       " 'nu',\n",
       " 'nā',\n",
       " 'nī',\n",
       " 'nū',\n",
       " 'o',\n",
       " 'pa',\n",
       " 'pe',\n",
       " 'pha',\n",
       " 'phe',\n",
       " 'phā',\n",
       " 'pi',\n",
       " 'po',\n",
       " 'pu',\n",
       " 'pā',\n",
       " 'pī',\n",
       " 'ra',\n",
       " 're',\n",
       " 'ri',\n",
       " 'ro',\n",
       " 'ru',\n",
       " 'rā',\n",
       " 'rī',\n",
       " 'rū',\n",
       " 'sa',\n",
       " 'se',\n",
       " 'si',\n",
       " 'so',\n",
       " 'su',\n",
       " 'sā',\n",
       " 'sī',\n",
       " 'sū',\n",
       " 'ta',\n",
       " 'te',\n",
       " 'tha',\n",
       " 'the',\n",
       " 'thi',\n",
       " 'thu',\n",
       " 'thā',\n",
       " 'thī',\n",
       " 'ti',\n",
       " 'to',\n",
       " 'tu',\n",
       " 'tā',\n",
       " 'tī',\n",
       " 'tū',\n",
       " 'u',\n",
       " 'va',\n",
       " 've',\n",
       " 'vi',\n",
       " 'vo',\n",
       " 'vu',\n",
       " 'vā',\n",
       " 'vī',\n",
       " 'vū',\n",
       " 'ya',\n",
       " 'ye',\n",
       " 'yi',\n",
       " 'yo',\n",
       " 'yu',\n",
       " 'yā',\n",
       " 'yī',\n",
       " 'yū',\n",
       " 'ña',\n",
       " 'ñe',\n",
       " 'ño',\n",
       " 'ñā',\n",
       " 'ā',\n",
       " 'śa',\n",
       " 'śi',\n",
       " 'śu',\n",
       " 'śā',\n",
       " 'ḍa',\n",
       " 'ḍe',\n",
       " 'ḍha',\n",
       " 'ḍhe',\n",
       " 'ḍhi',\n",
       " 'ḍhā',\n",
       " 'ḍhī',\n",
       " 'ḍi',\n",
       " 'ḍu',\n",
       " 'ḍā',\n",
       " 'ḍī',\n",
       " 'ṇa',\n",
       " 'ṇe',\n",
       " 'ṇi',\n",
       " 'ṇā',\n",
       " 'ṇī',\n",
       " 'ṣa',\n",
       " 'ṣe',\n",
       " 'ṣi',\n",
       " 'ṣo',\n",
       " 'ṣu',\n",
       " 'ṣā',\n",
       " 'ṭa',\n",
       " 'ṭe',\n",
       " 'ṭha',\n",
       " 'ṭhe',\n",
       " 'ṭhi',\n",
       " 'ṭhā',\n",
       " 'ṭhī',\n",
       " 'ṭhū',\n",
       " 'ṭi',\n",
       " 'ṭu',\n",
       " 'ṭā',\n",
       " 'ṭī']"
      ]
     },
     "execution_count": 58,
     "metadata": {},
     "output_type": "execute_result"
    }
   ],
   "source": [
    "# Obtaining Class Names\n",
    "\n",
    "class_names = train_data.class_names\n",
    "class_names"
   ]
  },
  {
   "cell_type": "code",
   "execution_count": 69,
   "metadata": {},
   "outputs": [
    {
     "name": "stdout",
     "output_type": "stream",
     "text": [
      "Model: \"sequential_17\"\n",
      "_________________________________________________________________\n",
      " Layer (type)                Output Shape              Param #   \n",
      "=================================================================\n",
      " conv2d_8 (Conv2D)           (None, 109, 109, 6)       888       \n",
      "                                                                 \n",
      " max_pooling2d_8 (MaxPooling  (None, 54, 54, 6)        0         \n",
      " 2D)                                                             \n",
      "                                                                 \n",
      " conv2d_9 (Conv2D)           (None, 26, 26, 16)        880       \n",
      "                                                                 \n",
      " max_pooling2d_9 (MaxPooling  (None, 12, 12, 16)       0         \n",
      " 2D)                                                             \n",
      "                                                                 \n",
      " flatten_14 (Flatten)        (None, 2304)              0         \n",
      "                                                                 \n",
      " dense_35 (Dense)            (None, 128)               295040    \n",
      "                                                                 \n",
      " dense_36 (Dense)            (None, 214)               27606     \n",
      "                                                                 \n",
      "=================================================================\n",
      "Total params: 324,414\n",
      "Trainable params: 324,414\n",
      "Non-trainable params: 0\n",
      "_________________________________________________________________\n"
     ]
    }
   ],
   "source": [
    "import matplotlib.pylab as plt\n",
    "import tensorflow as tf\n",
    "from keras.models import Sequential\n",
    "\n",
    "vgg16 = Sequential()\n",
    "vgg16.add(Conv2D(filters = 6, kernel_size = 7, strides = 2, activation = 'sigmoid', input_shape = (224,224,3)))\n",
    "vgg16.add(MaxPooling2D(pool_size = 3, strides = 2))\n",
    "vgg16.add(Conv2D(filters = 16, kernel_size = 3, strides = 2, activation = 'sigmoid', input_shape = (112,112,64)))\n",
    "vgg16.add(MaxPooling2D(pool_size = 3, strides = 2))\n",
    "vgg16.add(Flatten())\n",
    "vgg16.add(Dense(units = 128, activation = 'elu'))\n",
    "vgg16.add(Dense(214,activation = 'softmax'))\n",
    "\n",
    "vgg16.summary()"
   ]
  },
  {
   "cell_type": "code",
   "execution_count": 70,
   "metadata": {},
   "outputs": [],
   "source": [
    "vgg16.compile(optimizer = tf.keras.optimizers.Adam(learning_rate = 0.01), loss = 'sparse_categorical_crossentropy', metrics = ['accuracy'])"
   ]
  },
  {
   "cell_type": "code",
   "execution_count": 71,
   "metadata": {},
   "outputs": [
    {
     "name": "stdout",
     "output_type": "stream",
     "text": [
      "Epoch 1/50\n",
      "4965/4965 [==============================] - 1038s 209ms/step - loss: 3.6482 - accuracy: 0.1913 - val_loss: 2.4190 - val_accuracy: 0.3747\n",
      "Epoch 2/50\n",
      "4965/4965 [==============================] - 1068s 215ms/step - loss: 2.0693 - accuracy: 0.4553 - val_loss: 1.8853 - val_accuracy: 0.4934\n",
      "Epoch 3/50\n",
      "4965/4965 [==============================] - 1161s 234ms/step - loss: 1.6674 - accuracy: 0.5434 - val_loss: 1.6596 - val_accuracy: 0.5433\n",
      "Epoch 4/50\n",
      "4965/4965 [==============================] - 907s 182ms/step - loss: 1.5380 - accuracy: 0.5758 - val_loss: 1.5347 - val_accuracy: 0.5814\n",
      "Epoch 5/50\n",
      "4965/4965 [==============================] - 879s 177ms/step - loss: 1.5633 - accuracy: 0.5734 - val_loss: 1.5362 - val_accuracy: 0.5787\n",
      "Epoch 6/50\n",
      "4965/4965 [==============================] - 934s 188ms/step - loss: 1.4443 - accuracy: 0.5979 - val_loss: 1.5221 - val_accuracy: 0.5872\n",
      "Epoch 7/50\n",
      "4965/4965 [==============================] - 886s 178ms/step - loss: 1.3867 - accuracy: 0.6141 - val_loss: 1.7119 - val_accuracy: 0.5528\n",
      "Epoch 8/50\n",
      "4965/4965 [==============================] - 890s 179ms/step - loss: 1.4079 - accuracy: 0.6127 - val_loss: 1.3768 - val_accuracy: 0.6265\n",
      "Epoch 9/50\n",
      "4965/4965 [==============================] - 895s 180ms/step - loss: 1.2707 - accuracy: 0.6416 - val_loss: 1.5510 - val_accuracy: 0.6051\n",
      "Epoch 10/50\n",
      "4965/4965 [==============================] - 897s 181ms/step - loss: 1.2614 - accuracy: 0.6447 - val_loss: 1.5096 - val_accuracy: 0.6014\n",
      "Epoch 11/50\n",
      "4965/4965 [==============================] - 899s 181ms/step - loss: 1.2315 - accuracy: 0.6545 - val_loss: 1.3234 - val_accuracy: 0.6379\n",
      "Epoch 12/50\n",
      "4965/4965 [==============================] - 894s 180ms/step - loss: 1.2066 - accuracy: 0.6592 - val_loss: 1.2654 - val_accuracy: 0.6582\n",
      "Epoch 13/50\n",
      "4965/4965 [==============================] - 899s 181ms/step - loss: 1.1397 - accuracy: 0.6765 - val_loss: 1.3315 - val_accuracy: 0.6316\n",
      "Epoch 14/50\n",
      "4965/4965 [==============================] - 901s 182ms/step - loss: 1.1185 - accuracy: 0.6815 - val_loss: 1.5013 - val_accuracy: 0.6203\n",
      "Epoch 15/50\n",
      "4965/4965 [==============================] - 900s 181ms/step - loss: 1.0532 - accuracy: 0.6990 - val_loss: 1.3956 - val_accuracy: 0.6226\n",
      "Epoch 16/50\n",
      "4965/4965 [==============================] - 1056s 213ms/step - loss: 1.0351 - accuracy: 0.7017 - val_loss: 1.3666 - val_accuracy: 0.6520\n",
      "Epoch 17/50\n",
      "4965/4965 [==============================] - 1036s 209ms/step - loss: 1.0742 - accuracy: 0.6963 - val_loss: 1.2813 - val_accuracy: 0.6563\n"
     ]
    }
   ],
   "source": [
    "epochs= 50\n",
    "callback = tf.keras.callbacks.EarlyStopping(patience = 5, restore_best_weights = True)\n",
    "history = vgg16.fit(\n",
    "  train_data,\n",
    "  validation_data=val_data,\n",
    "  epochs=epochs,\n",
    "  verbose = 1,\n",
    "  callbacks = [callback]\n",
    ")"
   ]
  },
  {
   "cell_type": "code",
   "execution_count": 74,
   "metadata": {},
   "outputs": [
    {
     "data": {
      "image/png": "[encoded data removed]",
      "text/plain": [
       "<Figure size 432x288 with 1 Axes>"
      ]
     },
     "metadata": {
      "needs_background": "light"
     },
     "output_type": "display_data"
    }
   ],
   "source": [
    "# Plotting of Validation and Training Loss\n",
    "\n",
    "loss_train = history.history['loss']\n",
    "loss_val = history.history['val_loss']\n",
    "epochs = range(1,18)   # ======== Adjust this! ==========\n",
    "plt.plot(epochs, loss_train, 'g', label='Training loss')\n",
    "plt.plot(epochs, loss_val, 'b', label='validation loss')\n",
    "plt.title('Training and Validation loss')\n",
    "plt.xlabel('Epochs')\n",
    "plt.ylabel('Loss')\n",
    "plt.legend()\n",
    "plt.show()"
   ]
  },
  {
   "cell_type": "code",
   "execution_count": 76,
   "metadata": {},
   "outputs": [
    {
     "data": {
      "image/png": "[encoded data removed]",
      "text/plain": [
       "<Figure size 432x288 with 1 Axes>"
      ]
     },
     "metadata": {
      "needs_background": "light"
     },
     "output_type": "display_data"
    }
   ],
   "source": [
    "# Plotting of Validation and Training Accuracy \n",
    "\n",
    "loss_train = history.history['accuracy']\n",
    "loss_val = history.history['val_accuracy']\n",
    "epochs = range(1,18)   # ========== Adjust This! ==========\n",
    "plt.plot(epochs, loss_train, 'g', label='Training accuracy')\n",
    "plt.plot(epochs, loss_val, 'b', label='validation accuracy')\n",
    "plt.title('Training and Validation accuracy')\n",
    "plt.xlabel('Epochs')\n",
    "plt.ylabel('Accuracy')\n",
    "plt.legend()\n",
    "plt.show()"
   ]
  },
  {
   "cell_type": "code",
   "execution_count": 77,
   "metadata": {},
   "outputs": [],
   "source": [
    "model_json = vgg16.to_json()\n",
    "with open(\"vgg16_model_arch.json\", \"w\") as json_file:\n",
    "    json_file.write(model_json)\n",
    "    \n",
    "vgg16.save_weights(\"vgg16_model_weights.h5\")"
   ]
  },
  {
   "cell_type": "code",
   "execution_count": 78,
   "metadata": {},
   "outputs": [],
   "source": [
    "from keras.models import model_from_json\n",
    "model = model_from_json(open('vgg16_model_arch.json').read())\n",
    "\n",
    "model.load_weights('vgg16_model_weights.h5')"
   ]
  },
  {
   "cell_type": "code",
   "execution_count": null,
   "metadata": {},
   "outputs": [],
   "source": []
  }
 ],
 "metadata": {
  "kernelspec": {
   "display_name": "Python 3 (ipykernel)",
   "language": "python",
   "name": "python3"
  },
  "language_info": {
   "codemirror_mode": {
    "name": "ipython",
    "version": 3
   },
   "file_extension": ".py",
   "mimetype": "text/x-python",
   "name": "python",
   "nbconvert_exporter": "python",
   "pygments_lexer": "ipython3",
   "version": "3.9.6 (tags/v3.9.6:db3ff76, Jun 28 2021, 15:26:21) [MSC v.1929 64 bit (AMD64)]"
  },
  "vscode": {
   "interpreter": {
    "hash": "0bc5b654634f21542eece44b6c3bab6307c7d4cdf927f331dd14434a472b83dc"
   }
  }
 },
 "nbformat": 4,
 "nbformat_minor": 2
}
