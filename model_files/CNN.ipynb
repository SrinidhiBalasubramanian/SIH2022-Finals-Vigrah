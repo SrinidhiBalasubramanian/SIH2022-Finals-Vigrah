{
 "cells": [
  {
   "cell_type": "code",
   "execution_count": 21,
   "id": "cd257bf0",
   "metadata": {},
   "outputs": [],
   "source": [
    "# Importing required python libraries\n",
    "\n",
    "import tensorflow as tf\n",
    "import matplotlib.pyplot as plt\n",
    "import keras \n",
    "from keras.layers import Conv2D, Activation, MaxPooling2D, Dense, Dropout, Flatten\n",
    "import cv2"
   ]
  },
  {
   "cell_type": "code",
   "execution_count": 1,
   "id": "e8cd39b0",
   "metadata": {},
   "outputs": [
    {
     "name": "stdout",
     "output_type": "stream",
     "text": [
      "Found 2642 files belonging to 168 classes.\n",
      "Using 1850 files for training.\n"
     ]
    }
   ],
   "source": [
    "# Obtaining Training Dataset from Local Directory\n",
    "\n",
    "train_data = tf.keras.utils.image_dataset_from_directory(\n",
    "    \"Aug_Dataset\"\n",
    "    , labels = 'inferred'\n",
    "    , label_mode = 'int'\n",
    "    , image_size=(100, 140)\n",
    "    , color_mode = 'grayscale'\n",
    "    , shuffle = True\n",
    "    , seed = 101\n",
    "    , validation_split = 0.3\n",
    "    , subset = \"training\"   \n",
    ")"
   ]
  },
  {
   "cell_type": "code",
   "execution_count": 2,
   "id": "2f065467",
   "metadata": {},
   "outputs": [
    {
     "name": "stdout",
     "output_type": "stream",
     "text": [
      "Found 2642 files belonging to 168 classes.\n",
      "Using 792 files for validation.\n"
     ]
    }
   ],
   "source": [
    "# Obtaining Validation Dataset from Local Directory\n",
    "\n",
    "val_data = tf.keras.utils.image_dataset_from_directory(\n",
    "    \"Aug_Dataset\"\n",
    "    , labels = 'inferred'\n",
    "    , label_mode = 'int'\n",
    "    , image_size=(100, 140)\n",
    "    , color_mode = 'grayscale'\n",
    "    , shuffle = True\n",
    "    , seed = 101\n",
    "    , validation_split = 0.3\n",
    "    , subset = \"validation\"   \n",
    ")"
   ]
  },
  {
   "cell_type": "code",
   "execution_count": 3,
   "id": "2c5d5fbe",
   "metadata": {},
   "outputs": [],
   "source": [
    "# Obtaining Class Names\n",
    "\n",
    "class_names = train_data.class_names"
   ]
  },
  {
   "cell_type": "code",
   "execution_count": 9,
   "id": "8de76ab1",
   "metadata": {},
   "outputs": [
    {
     "name": "stdout",
     "output_type": "stream",
     "text": [
      "Model: \"sequential_1\"\n",
      "_________________________________________________________________\n",
      " Layer (type)                Output Shape              Param #   \n",
      "=================================================================\n",
      " conv2d_2 (Conv2D)           (None, 96, 136, 32)       832       \n",
      "                                                                 \n",
      " activation_4 (Activation)   (None, 96, 136, 32)       0         \n",
      "                                                                 \n",
      " max_pooling2d_2 (MaxPooling  (None, 19, 27, 32)       0         \n",
      " 2D)                                                             \n",
      "                                                                 \n",
      " conv2d_3 (Conv2D)           (None, 15, 23, 64)        51264     \n",
      "                                                                 \n",
      " activation_5 (Activation)   (None, 15, 23, 64)        0         \n",
      "                                                                 \n",
      " max_pooling2d_3 (MaxPooling  (None, 3, 4, 64)         0         \n",
      " 2D)                                                             \n",
      "                                                                 \n",
      " dropout_1 (Dropout)         (None, 3, 4, 64)          0         \n",
      "                                                                 \n",
      " flatten_1 (Flatten)         (None, 768)               0         \n",
      "                                                                 \n",
      " dense_2 (Dense)             (None, 128)               98432     \n",
      "                                                                 \n",
      " activation_6 (Activation)   (None, 128)               0         \n",
      "                                                                 \n",
      " dense_3 (Dense)             (None, 214)               27606     \n",
      "                                                                 \n",
      " activation_7 (Activation)   (None, 214)               0         \n",
      "                                                                 \n",
      "=================================================================\n",
      "Total params: 178,134\n",
      "Trainable params: 178,134\n",
      "Non-trainable params: 0\n",
      "_________________________________________________________________\n"
     ]
    }
   ],
   "source": [
    "# Model for least Validation Loss\n",
    "\n",
    "model = keras.Sequential()\n",
    "\n",
    "model.add(Conv2D(32, (5, 5), input_shape = (100,140,1)))\n",
    "model.add(Activation(\"relu\"))\n",
    "model.add(MaxPooling2D(pool_size=(5,5)))\n",
    "\n",
    "model.add(Conv2D(64, (5, 5)))\n",
    "model.add(Activation(\"relu\"))\n",
    "model.add(MaxPooling2D(pool_size=(5,5)))\n",
    "model.add(Dropout(0.25))\n",
    "\n",
    "model.add(Flatten()) \n",
    "model.add(Dense(128))\n",
    "model.add(Activation(\"relu\"))\n",
    "\n",
    "model.add(Dense(214))\n",
    "model.add(Activation(\"softmax\"))\n",
    "\n",
    "model.compile(\n",
    "    loss = 'sparse_categorical_crossentropy',\n",
    "    optimizer = 'adam',\n",
    "    metrics = ['accuracy']\n",
    ")\n",
    "\n",
    "model.summary()"
   ]
  },
  {
   "cell_type": "code",
   "execution_count": 10,
   "id": "27c46283",
   "metadata": {
    "scrolled": false
   },
   "outputs": [
    {
     "name": "stdout",
     "output_type": "stream",
     "text": [
      "Epoch 1/10\n",
      "58/58 [==============================] - 6s 99ms/step - loss: 7.5700 - accuracy: 0.0054 - val_loss: 5.1469 - val_accuracy: 0.0139\n",
      "Epoch 2/10\n",
      "58/58 [==============================] - 5s 94ms/step - loss: 4.9270 - accuracy: 0.0254 - val_loss: 4.7874 - val_accuracy: 0.0404\n",
      "Epoch 3/10\n",
      "58/58 [==============================] - 6s 94ms/step - loss: 4.6779 - accuracy: 0.0351 - val_loss: 4.6068 - val_accuracy: 0.0568\n",
      "Epoch 4/10\n",
      "58/58 [==============================] - 5s 93ms/step - loss: 4.4474 - accuracy: 0.0627 - val_loss: 4.2320 - val_accuracy: 0.1086\n",
      "Epoch 5/10\n",
      "58/58 [==============================] - 5s 92ms/step - loss: 4.1502 - accuracy: 0.0746 - val_loss: 3.8443 - val_accuracy: 0.1578\n",
      "Epoch 6/10\n",
      "58/58 [==============================] - 6s 95ms/step - loss: 3.8350 - accuracy: 0.1314 - val_loss: 3.4725 - val_accuracy: 0.2247\n",
      "Epoch 7/10\n",
      "58/58 [==============================] - 6s 95ms/step - loss: 3.4727 - accuracy: 0.1957 - val_loss: 3.0704 - val_accuracy: 0.2879\n",
      "Epoch 8/10\n",
      "58/58 [==============================] - 5s 94ms/step - loss: 3.1327 - accuracy: 0.2492 - val_loss: 2.8733 - val_accuracy: 0.3220\n",
      "Epoch 9/10\n",
      "58/58 [==============================] - 5s 93ms/step - loss: 2.8924 - accuracy: 0.2600 - val_loss: 2.7064 - val_accuracy: 0.3283\n",
      "Epoch 10/10\n",
      "58/58 [==============================] - 6s 97ms/step - loss: 2.7071 - accuracy: 0.3151 - val_loss: 2.5198 - val_accuracy: 0.3561\n"
     ]
    }
   ],
   "source": [
    "# Training LEAST VALIDATION LOSS model\n",
    "\n",
    "callback = tf.keras.callbacks.EarlyStopping(\n",
    "    monitor=\"val_loss\",\n",
    "    min_delta=0,\n",
    "    patience=4,\n",
    "    verbose=1,\n",
    "    mode=\"auto\",\n",
    "    baseline=None,\n",
    "    restore_best_weights=True,\n",
    ")\n",
    "\n",
    "history = model.fit(train_data, epochs = 200, batch_size = 32, verbose = 1, validation_data = val_data, callbacks = [callback])"
   ]
  },
  {
   "cell_type": "code",
   "execution_count": 9,
   "id": "47abe26a",
   "metadata": {},
   "outputs": [
    {
     "name": "stdout",
     "output_type": "stream",
     "text": [
      "Model: \"sequential_2\"\n",
      "_________________________________________________________________\n",
      " Layer (type)                Output Shape              Param #   \n",
      "=================================================================\n",
      " conv2d_4 (Conv2D)           (None, 96, 136, 32)       832       \n",
      "                                                                 \n",
      " activation_8 (Activation)   (None, 96, 136, 32)       0         \n",
      "                                                                 \n",
      " max_pooling2d_4 (MaxPooling  (None, 19, 27, 32)       0         \n",
      " 2D)                                                             \n",
      "                                                                 \n",
      " conv2d_5 (Conv2D)           (None, 15, 23, 64)        51264     \n",
      "                                                                 \n",
      " activation_9 (Activation)   (None, 15, 23, 64)        0         \n",
      "                                                                 \n",
      " max_pooling2d_5 (MaxPooling  (None, 3, 4, 64)         0         \n",
      " 2D)                                                             \n",
      "                                                                 \n",
      " dropout_2 (Dropout)         (None, 3, 4, 64)          0         \n",
      "                                                                 \n",
      " flatten_2 (Flatten)         (None, 768)               0         \n",
      "                                                                 \n",
      " dense_4 (Dense)             (None, 128)               98432     \n",
      "                                                                 \n",
      " activation_10 (Activation)  (None, 128)               0         \n",
      "                                                                 \n",
      " dense_5 (Dense)             (None, 214)               27606     \n",
      "                                                                 \n",
      " activation_11 (Activation)  (None, 214)               0         \n",
      "                                                                 \n",
      "=================================================================\n",
      "Total params: 178,134\n",
      "Trainable params: 178,134\n",
      "Non-trainable params: 0\n",
      "_________________________________________________________________\n"
     ]
    }
   ],
   "source": [
    "# Model for Best Validation Accuracy\n",
    "\n",
    "model2 = keras.Sequential()\n",
    "\n",
    "model2.add(Conv2D(32, (5, 5), input_shape = (100,140,1)))\n",
    "model2.add(Activation(\"relu\"))\n",
    "model2.add(MaxPooling2D(pool_size=(5,5)))\n",
    "\n",
    "model2.add(Conv2D(64, (5, 5)))\n",
    "model2.add(Activation(\"relu\"))\n",
    "model2.add(MaxPooling2D(pool_size=(5,5)))\n",
    "model2.add(Dropout(0.25))\n",
    "\n",
    "model2.add(Flatten()) \n",
    "model2.add(Dense(128))\n",
    "model2.add(Activation(\"relu\"))\n",
    "\n",
    "model2.add(Dense(214))\n",
    "model2.add(Activation(\"softmax\"))\n",
    "\n",
    "model2.compile(\n",
    "    loss = 'sparse_categorical_crossentropy',\n",
    "    optimizer = 'adam',\n",
    "    metrics = ['accuracy']\n",
    ")\n",
    "\n",
    "model2.summary()"
   ]
  },
  {
   "cell_type": "code",
   "execution_count": 10,
   "id": "5927ee78",
   "metadata": {},
   "outputs": [
    {
     "name": "stdout",
     "output_type": "stream",
     "text": [
      "Epoch 1/200\n",
      "6384/6384 [==============================] - 632s 99ms/step - loss: 4.3743 - accuracy: 0.0990 - val_loss: 2.3406 - val_accuracy: 0.3936\n",
      "Epoch 2/200\n",
      "6384/6384 [==============================] - 629s 99ms/step - loss: 2.1195 - accuracy: 0.4368 - val_loss: 1.3615 - val_accuracy: 0.6085\n",
      "Epoch 3/200\n",
      "6384/6384 [==============================] - 642s 101ms/step - loss: 1.5589 - accuracy: 0.5634 - val_loss: 0.9368 - val_accuracy: 0.7172\n",
      "Epoch 4/200\n",
      "6384/6384 [==============================] - 663s 104ms/step - loss: 1.3964 - accuracy: 0.6021 - val_loss: 0.9851 - val_accuracy: 0.7093\n",
      "Epoch 5/200\n",
      "6384/6384 [==============================] - 588s 92ms/step - loss: 1.3138 - accuracy: 0.6216 - val_loss: 1.0270 - val_accuracy: 0.6887\n",
      "Epoch 6/200\n",
      "6384/6384 [==============================] - 618s 97ms/step - loss: 1.2658 - accuracy: 0.6356 - val_loss: 2.6341 - val_accuracy: 0.4560\n",
      "Epoch 7/200\n",
      "6384/6384 [==============================] - 614s 96ms/step - loss: 1.2299 - accuracy: 0.6448 - val_loss: 0.8636 - val_accuracy: 0.7310\n",
      "Epoch 8/200\n",
      "6384/6384 [==============================] - 554s 87ms/step - loss: 1.1984 - accuracy: 0.6526 - val_loss: 0.7621 - val_accuracy: 0.7651\n",
      "Epoch 9/200\n",
      "6384/6384 [==============================] - 539s 84ms/step - loss: 1.1752 - accuracy: 0.6601 - val_loss: 0.9437 - val_accuracy: 0.7084\n",
      "Epoch 10/200\n",
      "6384/6384 [==============================] - 543s 85ms/step - loss: 1.1477 - accuracy: 0.6666 - val_loss: 0.8060 - val_accuracy: 0.7557\n",
      "Epoch 11/200\n",
      "6384/6384 [==============================] - 552s 86ms/step - loss: 1.1728 - accuracy: 0.6642 - val_loss: 0.7953 - val_accuracy: 0.7567\n",
      "Epoch 12/200\n",
      "6384/6384 [==============================] - 545s 85ms/step - loss: 1.1027 - accuracy: 0.6767 - val_loss: 0.7172 - val_accuracy: 0.7779\n",
      "Epoch 13/200\n",
      "6384/6384 [==============================] - 547s 86ms/step - loss: 1.0915 - accuracy: 0.6815 - val_loss: 0.6537 - val_accuracy: 0.7948\n",
      "Epoch 14/200\n",
      "6384/6384 [==============================] - 549s 86ms/step - loss: 1.0888 - accuracy: 0.6838 - val_loss: 0.7089 - val_accuracy: 0.7759\n",
      "Epoch 15/200\n",
      "6384/6384 [==============================] - 549s 86ms/step - loss: 2.2009 - accuracy: 0.5023 - val_loss: 4.6961 - val_accuracy: 0.0326\n",
      "Epoch 16/200\n",
      "6384/6384 [==============================] - 559s 88ms/step - loss: 3.4989 - accuracy: 0.2439 - val_loss: 0.7947 - val_accuracy: 0.7562\n",
      "Epoch 17/200\n",
      "6383/6384 [============================>.] - ETA: 0s - loss: 1.2921 - accuracy: 0.6466Restoring model weights from the end of the best epoch: 13.\n",
      "6384/6384 [==============================] - 554s 87ms/step - loss: 1.2921 - accuracy: 0.6466 - val_loss: 0.7095 - val_accuracy: 0.7810\n",
      "Epoch 17: early stopping\n"
     ]
    },
    {
     "data": {
      "text/plain": [
       "<keras.callbacks.History at 0x1ad00039c60>"
      ]
     },
     "execution_count": 10,
     "metadata": {},
     "output_type": "execute_result"
    }
   ],
   "source": [
    "# Training BEST VALIDATION ACCURACY model\n",
    "\n",
    "callback = tf.keras.callbacks.EarlyStopping(\n",
    "    monitor=\"val_accuracy\",\n",
    "    min_delta=0,\n",
    "    patience=4,\n",
    "    verbose=1,\n",
    "    mode=\"auto\",\n",
    "    baseline=None,\n",
    "    restore_best_weights=True,\n",
    ")\n",
    "\n",
    "history = model2.fit(train_data, epochs = 200, batch_size = 32, verbose = 1, validation_data = val_data, callbacks = [callback])"
   ]
  },
  {
   "cell_type": "code",
   "execution_count": null,
   "id": "6722baec",
   "metadata": {},
   "outputs": [],
   "source": [
    "# Plotting of Validation and Training Loss\n",
    "\n",
    "loss_train = history.history['loss']\n",
    "loss_val = history.history['val_loss']\n",
    "epochs = range(1,11)   # ======== Adjust this! ==========\n",
    "plt.plot(epochs, loss_train, 'g', label='Training loss')\n",
    "plt.plot(epochs, loss_val, 'b', label='validation loss')\n",
    "plt.title('Training and Validation loss')\n",
    "plt.xlabel('Epochs')\n",
    "plt.ylabel('Loss')\n",
    "plt.legend()\n",
    "plt.show()"
   ]
  },
  {
   "cell_type": "code",
   "execution_count": null,
   "id": "9ac525ff",
   "metadata": {},
   "outputs": [],
   "source": [
    "# Plotting of Validation and Training Accuracy \n",
    "\n",
    "loss_train = history.history['accuracy']\n",
    "loss_val = history.history['val_accuracy']\n",
    "epochs = range(1,11)   # ========== Adjust This! ==========\n",
    "plt.plot(epochs, loss_train, 'g', label='Training accuracy')\n",
    "plt.plot(epochs, loss_val, 'b', label='validation accuracy')\n",
    "plt.title('Training and Validation accuracy')\n",
    "plt.xlabel('Epochs')\n",
    "plt.ylabel('Accuracy')\n",
    "plt.legend()\n",
    "plt.show()"
   ]
  },
  {
   "cell_type": "code",
   "execution_count": 22,
   "id": "88daca2a",
   "metadata": {},
   "outputs": [
    {
     "name": "stdout",
     "output_type": "stream",
     "text": [
      "1/1 [==============================] - 0s 20ms/step\n",
      "du\n"
     ]
    }
   ],
   "source": [
    "# Making predictions with the trained model\n",
    "\n",
    "img_path = \"samples/aug_0_209.png\"\n",
    "\n",
    "def prepare(file):\n",
    "#     IMG_SIZE_X = 100\n",
    "#     IMG_SIZE_Y = 140\n",
    "    img_array = cv2.imread(file, cv2.IMREAD_GRAYSCALE)\n",
    "#     new_array = cv2.resize(img_array, (IMG_SIZE_X, IMG_SIZE_Y))\n",
    "    return img_array.reshape(-1, 100, 140, 1)\n",
    "\n",
    "img = prepare(img_path)\n",
    "pred = model.predict([img])\n",
    "\n",
    "pred = list(pred[0])\n",
    "char_type = class_names[pred.index(max(pred))]\n",
    "print(char_type)"
   ]
  },
  {
   "cell_type": "code",
   "execution_count": 20,
   "id": "4b98036e",
   "metadata": {},
   "outputs": [],
   "source": [
    "# Saving model weights to be used in front-end\n",
    "\n",
    "model2.save('best_val_acc_model.h5')"
   ]
  },
  {
   "cell_type": "code",
   "execution_count": null,
   "id": "24c8a702",
   "metadata": {},
   "outputs": [],
   "source": [
    "# Make sure training data "
   ]
  }
 ],
 "metadata": {
  "kernelspec": {
   "display_name": "Python 3 (ipykernel)",
   "language": "python",
   "name": "python3"
  },
  "language_info": {
   "codemirror_mode": {
    "name": "ipython",
    "version": 3
   },
   "file_extension": ".py",
   "mimetype": "text/x-python",
   "name": "python",
   "nbconvert_exporter": "python",
   "pygments_lexer": "ipython3",
   "version": "3.10.5"
  }
 },
 "nbformat": 4,
 "nbformat_minor": 5
}
