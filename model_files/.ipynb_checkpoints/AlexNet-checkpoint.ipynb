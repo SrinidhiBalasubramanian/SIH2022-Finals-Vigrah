{
 "cells": [
  {
   "cell_type": "code",
   "execution_count": 5,
   "id": "7cdb561b",
   "metadata": {},
   "outputs": [],
   "source": [
    "import tensorflow as tf\n",
    "import matplotlib.pyplot as plt\n",
    "import keras \n",
    "from keras.layers import Conv2D, Activation, MaxPooling2D, Dense, Dropout, Flatten\n",
    "import cv2\n",
    "\n",
    "import matplotlib.pylab as plt\n",
    "import tensorflow as tf\n",
    "from keras.models import Sequential\n"
   ]
  },
  {
   "cell_type": "code",
   "execution_count": 8,
   "id": "094a9b09",
   "metadata": {},
   "outputs": [
    {
     "name": "stdout",
     "output_type": "stream",
     "text": [
      "Found 205085 files belonging to 138 classes.\n",
      "Using 143560 files for training.\n"
     ]
    }
   ],
   "source": [
    "# Obtaining Training Dataset from Local Directory\n",
    "\n",
    "train_data = tf.keras.utils.image_dataset_from_directory(\n",
    "    \"SIH Char\"\n",
    "    , labels = 'inferred'\n",
    "    , label_mode = 'int'\n",
    "    , image_size=(224, 224)\n",
    "    , color_mode = 'grayscale'\n",
    "    , shuffle = True\n",
    "    , seed = 101\n",
    "    , validation_split = 0.3\n",
    "    , subset = \"training\"   \n",
    ")\n"
   ]
  },
  {
   "cell_type": "code",
   "execution_count": 9,
   "id": "3098da57",
   "metadata": {},
   "outputs": [
    {
     "name": "stdout",
     "output_type": "stream",
     "text": [
      "Found 205085 files belonging to 138 classes.\n",
      "Using 61525 files for validation.\n"
     ]
    }
   ],
   "source": [
    "# Obtaining Validation Dataset from Local Directory\n",
    "\n",
    "val_data = tf.keras.utils.image_dataset_from_directory(\n",
    "    \"SIH Char\"\n",
    "    , labels = 'inferred'\n",
    "    , label_mode = 'int'\n",
    "    , image_size=(224, 224)\n",
    "    , color_mode = 'grayscale'\n",
    "    , shuffle = True\n",
    "    , seed = 101\n",
    "    , validation_split = 0.3\n",
    "    , subset = \"validation\"   \n",
    ")\n"
   ]
  },
  {
   "cell_type": "code",
   "execution_count": 10,
   "id": "36faa52a",
   "metadata": {
    "scrolled": false
   },
   "outputs": [
    {
     "data": {
      "text/plain": [
       "['ca',\n",
       " 'ce',\n",
       " 'cha',\n",
       " 'che',\n",
       " 'chi',\n",
       " 'chu',\n",
       " 'ci',\n",
       " 'co',\n",
       " 'cu',\n",
       " 'da',\n",
       " 'de',\n",
       " 'dha',\n",
       " 'dhe',\n",
       " 'dhi',\n",
       " 'dho',\n",
       " 'dhu',\n",
       " 'di',\n",
       " 'do',\n",
       " 'du',\n",
       " 'ga',\n",
       " 'ge',\n",
       " 'gha',\n",
       " 'ghe',\n",
       " 'gho',\n",
       " 'ghu',\n",
       " 'gi',\n",
       " 'go',\n",
       " 'gu',\n",
       " 'ha',\n",
       " 'he',\n",
       " 'hi',\n",
       " 'ho',\n",
       " 'hu',\n",
       " 'ja',\n",
       " 'je',\n",
       " 'jha',\n",
       " 'jhi',\n",
       " 'ji',\n",
       " 'jo',\n",
       " 'ju',\n",
       " 'ka',\n",
       " 'ke',\n",
       " 'kha',\n",
       " 'khe',\n",
       " 'khi',\n",
       " 'kho',\n",
       " 'khu',\n",
       " 'ki',\n",
       " 'ko',\n",
       " 'ku',\n",
       " 'la',\n",
       " 'le',\n",
       " 'li',\n",
       " 'lo',\n",
       " 'lu',\n",
       " 'ma',\n",
       " 'me',\n",
       " 'mi',\n",
       " 'mo',\n",
       " 'mu',\n",
       " 'na',\n",
       " 'ne',\n",
       " 'ni',\n",
       " 'no',\n",
       " 'nu',\n",
       " 'pa',\n",
       " 'pe',\n",
       " 'pha',\n",
       " 'phe',\n",
       " 'pi',\n",
       " 'po',\n",
       " 'pu',\n",
       " 'ra',\n",
       " 're',\n",
       " 'ri',\n",
       " 'ro',\n",
       " 'ru',\n",
       " 'sa',\n",
       " 'se',\n",
       " 'si',\n",
       " 'so',\n",
       " 'su',\n",
       " 'ta',\n",
       " 'te',\n",
       " 'tha',\n",
       " 'the',\n",
       " 'thi',\n",
       " 'thu',\n",
       " 'ti',\n",
       " 'to',\n",
       " 'tu',\n",
       " 'va',\n",
       " 've',\n",
       " 'vi',\n",
       " 'vo',\n",
       " 'vu',\n",
       " 'ya',\n",
       " 'ye',\n",
       " 'yi',\n",
       " 'yo',\n",
       " 'yu',\n",
       " 'ña',\n",
       " 'ñe',\n",
       " 'ño',\n",
       " 'ḍa',\n",
       " 'ḍe',\n",
       " 'ḍha',\n",
       " 'ḍhe',\n",
       " 'ḍhi',\n",
       " 'ḍhā',\n",
       " 'ḍhī',\n",
       " 'ḍi',\n",
       " 'ḍu',\n",
       " 'ḍā',\n",
       " 'ḍī',\n",
       " 'ṇa',\n",
       " 'ṇe',\n",
       " 'ṇi',\n",
       " 'ṇā',\n",
       " 'ṇī',\n",
       " 'ṣa',\n",
       " 'ṣe',\n",
       " 'ṣi',\n",
       " 'ṣo',\n",
       " 'ṣu',\n",
       " 'ṣā',\n",
       " 'ṭa',\n",
       " 'ṭe',\n",
       " 'ṭha',\n",
       " 'ṭhe',\n",
       " 'ṭhi',\n",
       " 'ṭhā',\n",
       " 'ṭhī',\n",
       " 'ṭhū',\n",
       " 'ṭi',\n",
       " 'ṭu',\n",
       " 'ṭā',\n",
       " 'ṭī']"
      ]
     },
     "execution_count": 10,
     "metadata": {},
     "output_type": "execute_result"
    }
   ],
   "source": [
    "# Obtaining Class Names\n",
    "\n",
    "class_names = train_data.class_names\n",
    "class_names\n"
   ]
  },
  {
   "cell_type": "code",
   "execution_count": 26,
   "id": "eca32072",
   "metadata": {},
   "outputs": [],
   "source": [
    "model = keras.models.Sequential([\n",
    "    keras.layers.Conv2D(filters=96, kernel_size=(11,11), strides=(4,4), activation='relu', input_shape=(224,224,1)),\n",
    "    keras.layers.BatchNormalization(),\n",
    "    keras.layers.MaxPool2D(pool_size=(3,3), strides=(2,2)),\n",
    "    keras.layers.Conv2D(filters=256, kernel_size=(5,5), strides=(1,1), activation='relu', padding=\"same\"),\n",
    "    keras.layers.BatchNormalization(),\n",
    "    keras.layers.MaxPool2D(pool_size=(3,3), strides=(2,2)),\n",
    "    keras.layers.Conv2D(filters=384, kernel_size=(3,3), strides=(1,1), activation='relu', padding=\"same\"),\n",
    "    keras.layers.BatchNormalization(),\n",
    "    keras.layers.Conv2D(filters=384, kernel_size=(3,3), strides=(1,1), activation='relu', padding=\"same\"),\n",
    "    keras.layers.BatchNormalization(),\n",
    "    keras.layers.Conv2D(filters=256, kernel_size=(3,3), strides=(1,1), activation='relu', padding=\"same\"),\n",
    "    keras.layers.BatchNormalization(),\n",
    "    keras.layers.MaxPool2D(pool_size=(3,3), strides=(2,2)),\n",
    "    keras.layers.Flatten(),\n",
    "    keras.layers.Dense(4096, activation='relu'),\n",
    "    keras.layers.Dropout(0.5),\n",
    "    keras.layers.Dense(4096, activation='relu'),\n",
    "    keras.layers.Dropout(0.5),\n",
    "    keras.layers.Dense(138, activation='softmax')\n",
    "])\n"
   ]
  },
  {
   "cell_type": "code",
   "execution_count": 27,
   "id": "0ecf5b14",
   "metadata": {},
   "outputs": [
    {
     "name": "stdout",
     "output_type": "stream",
     "text": [
      "Model: \"sequential_4\"\n",
      "_________________________________________________________________\n",
      " Layer (type)                Output Shape              Param #   \n",
      "=================================================================\n",
      " conv2d_20 (Conv2D)          (None, 54, 54, 96)        11712     \n",
      "                                                                 \n",
      " batch_normalization_20 (Bat  (None, 54, 54, 96)       384       \n",
      " chNormalization)                                                \n",
      "                                                                 \n",
      " max_pooling2d_12 (MaxPoolin  (None, 26, 26, 96)       0         \n",
      " g2D)                                                            \n",
      "                                                                 \n",
      " conv2d_21 (Conv2D)          (None, 26, 26, 256)       614656    \n",
      "                                                                 \n",
      " batch_normalization_21 (Bat  (None, 26, 26, 256)      1024      \n",
      " chNormalization)                                                \n",
      "                                                                 \n",
      " max_pooling2d_13 (MaxPoolin  (None, 12, 12, 256)      0         \n",
      " g2D)                                                            \n",
      "                                                                 \n",
      " conv2d_22 (Conv2D)          (None, 12, 12, 384)       885120    \n",
      "                                                                 \n",
      " batch_normalization_22 (Bat  (None, 12, 12, 384)      1536      \n",
      " chNormalization)                                                \n",
      "                                                                 \n",
      " conv2d_23 (Conv2D)          (None, 12, 12, 384)       1327488   \n",
      "                                                                 \n",
      " batch_normalization_23 (Bat  (None, 12, 12, 384)      1536      \n",
      " chNormalization)                                                \n",
      "                                                                 \n",
      " conv2d_24 (Conv2D)          (None, 12, 12, 256)       884992    \n",
      "                                                                 \n",
      " batch_normalization_24 (Bat  (None, 12, 12, 256)      1024      \n",
      " chNormalization)                                                \n",
      "                                                                 \n",
      " max_pooling2d_14 (MaxPoolin  (None, 5, 5, 256)        0         \n",
      " g2D)                                                            \n",
      "                                                                 \n",
      " flatten_4 (Flatten)         (None, 6400)              0         \n",
      "                                                                 \n",
      " dense_12 (Dense)            (None, 4096)              26218496  \n",
      "                                                                 \n",
      " dropout_8 (Dropout)         (None, 4096)              0         \n",
      "                                                                 \n",
      " dense_13 (Dense)            (None, 4096)              16781312  \n",
      "                                                                 \n",
      " dropout_9 (Dropout)         (None, 4096)              0         \n",
      "                                                                 \n",
      " dense_14 (Dense)            (None, 138)               565386    \n",
      "                                                                 \n",
      "=================================================================\n",
      "Total params: 47,294,666\n",
      "Trainable params: 47,291,914\n",
      "Non-trainable params: 2,752\n",
      "_________________________________________________________________\n"
     ]
    }
   ],
   "source": [
    "model.summary()"
   ]
  },
  {
   "cell_type": "code",
   "execution_count": 28,
   "id": "4368331b",
   "metadata": {},
   "outputs": [],
   "source": [
    "model.compile(optimizer = tf.keras.optimizers.Adam(learning_rate = 0.01), loss = 'sparse_categorical_crossentropy', metrics = ['accuracy'])\n"
   ]
  },
  {
   "cell_type": "code",
   "execution_count": null,
   "id": "c618f6ce",
   "metadata": {},
   "outputs": [
    {
     "name": "stdout",
     "output_type": "stream",
     "text": [
      "Epoch 1/50\n",
      "4487/4487 [==============================] - 16774s 4s/step - loss: 6.6427 - accuracy: 0.0202 - val_loss: 4.8606 - val_accuracy: 0.0199\n",
      "Epoch 2/50\n",
      "4487/4487 [==============================] - ETA: 0s - loss: 4.8592 - accuracy: 0.0206"
     ]
    }
   ],
   "source": [
    "epochs= 50\n",
    "callback = tf.keras.callbacks.EarlyStopping(patience = 5, restore_best_weights = True)\n",
    "history = model.fit(\n",
    "  train_data,\n",
    "  validation_data=val_data,\n",
    "  epochs=epochs,\n",
    "  verbose = 1,\n",
    "  callbacks = [callback]\n",
    ")\n"
   ]
  },
  {
   "cell_type": "code",
   "execution_count": null,
   "id": "ca2670d2",
   "metadata": {},
   "outputs": [],
   "source": [
    "# Plotting of Validation and Training Loss\n",
    "\n",
    "loss_train = history.history['loss']\n",
    "loss_val = history.history['val_loss']\n",
    "epochs = range(1,13)   # ======== Adjust this! ==========\n",
    "plt.plot(epochs, loss_train, 'g', label='Training loss')\n",
    "plt.plot(epochs, loss_val, 'b', label='validation loss')\n",
    "plt.title('Training and Validation loss')\n",
    "plt.xlabel('Epochs')\n",
    "plt.ylabel('Loss')\n",
    "plt.legend()\n",
    "plt.show()\n"
   ]
  },
  {
   "cell_type": "code",
   "execution_count": null,
   "id": "97cfd98d",
   "metadata": {},
   "outputs": [],
   "source": [
    "# Plotting of Validation and Training Accuracy \n",
    "\n",
    "loss_train = history.history['accuracy']\n",
    "loss_val = history.history['val_accuracy']\n",
    "epochs = range(1,13)   # ========== Adjust This! ==========\n",
    "plt.plot(epochs, loss_train, 'g', label='Training accuracy')\n",
    "plt.plot(epochs, loss_val, 'b', label='validation accuracy')\n",
    "plt.title('Training and Validation accuracy')\n",
    "plt.xlabel('Epochs')\n",
    "plt.ylabel('Accuracy')\n",
    "plt.legend()\n",
    "plt.show()\n"
   ]
  },
  {
   "cell_type": "code",
   "execution_count": null,
   "id": "8de872c5",
   "metadata": {},
   "outputs": [],
   "source": [
    "model_json = mobilenet.to_json()\n",
    "with open(\"model_AlexNet.json\", \"w\") as json_file:\n",
    "    json_file.write(model_json)\n",
    "    \n",
    "mobilenet.save_weights(\"model_AlexNet.h5\")\n"
   ]
  },
  {
   "cell_type": "code",
   "execution_count": null,
   "id": "90d6edbb",
   "metadata": {},
   "outputs": [],
   "source": [
    "from keras.models import model_from_json\n",
    "model = model_from_json(open('model_AlexNet.json').read())\n",
    "\n",
    "model.load_weights('model_AlexNet.h5')\n"
   ]
  },
  {
   "cell_type": "code",
   "execution_count": null,
   "id": "c93ba91f",
   "metadata": {},
   "outputs": [],
   "source": []
  }
 ],
 "metadata": {
  "kernelspec": {
   "display_name": "Python 3 (ipykernel)",
   "language": "python",
   "name": "python3"
  },
  "language_info": {
   "codemirror_mode": {
    "name": "ipython",
    "version": 3
   },
   "file_extension": ".py",
   "mimetype": "text/x-python",
   "name": "python",
   "nbconvert_exporter": "python",
   "pygments_lexer": "ipython3",
   "version": "3.10.5"
  }
 },
 "nbformat": 4,
 "nbformat_minor": 5
}
