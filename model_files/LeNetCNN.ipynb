{
 "cells": [
  {
   "cell_type": "code",
   "execution_count": 1,
   "id": "303c451a",
   "metadata": {},
   "outputs": [],
   "source": [
    "# Importing required python libraries\n",
    "\n",
    "import tensorflow as tf\n",
    "import matplotlib.pyplot as plt\n",
    "import keras \n",
    "from keras.layers import Conv2D, Activation, MaxPooling2D, Dense, Dropout, Flatten\n",
    "import cv2"
   ]
  },
  {
   "cell_type": "code",
   "execution_count": 2,
   "id": "9ad53f3e",
   "metadata": {},
   "outputs": [
    {
     "name": "stdout",
     "output_type": "stream",
     "text": [
      "Found 226955 files belonging to 214 classes.\n",
      "Using 158869 files for training.\n"
     ]
    }
   ],
   "source": [
    "# Obtaining Training Dataset from Local Directory\n",
    "\n",
    "train_data = tf.keras.utils.image_dataset_from_directory(\n",
    "    \"SIH-Vigrah/Aug_Dataset\"\n",
    "    , labels = 'inferred'\n",
    "    , label_mode = 'int'\n",
    "    , image_size=(224, 224)\n",
    "    , color_mode = 'grayscale'\n",
    "    , shuffle = True\n",
    "    , seed = 101\n",
    "    , validation_split = 0.3\n",
    "    , subset = \"training\"   \n",
    ")"
   ]
  },
  {
   "cell_type": "code",
   "execution_count": 3,
   "id": "bb7c13d8",
   "metadata": {},
   "outputs": [
    {
     "name": "stdout",
     "output_type": "stream",
     "text": [
      "Found 226955 files belonging to 214 classes.\n",
      "Using 68086 files for validation.\n"
     ]
    }
   ],
   "source": [
    "# Obtaining Validation Dataset from Local Directory\n",
    "\n",
    "val_data = tf.keras.utils.image_dataset_from_directory(\n",
    "    \"SIH-Vigrah/Aug_Dataset\"\n",
    "    , labels = 'inferred'\n",
    "    , label_mode = 'int'\n",
    "    , image_size=(224, 224)\n",
    "    , color_mode = 'grayscale'\n",
    "    , shuffle = True\n",
    "    , seed = 101\n",
    "    , validation_split = 0.3\n",
    "    , subset = \"validation\"   \n",
    ")"
   ]
  },
  {
   "cell_type": "code",
   "execution_count": 4,
   "id": "317c1ae0",
   "metadata": {},
   "outputs": [
    {
     "data": {
      "text/plain": [
       "['a',\n",
       " 'ba',\n",
       " 'be',\n",
       " 'bha',\n",
       " 'bhe',\n",
       " 'bhi',\n",
       " 'bho',\n",
       " 'bhu',\n",
       " 'bhā',\n",
       " 'bhī',\n",
       " 'bhū',\n",
       " 'bi',\n",
       " 'bo',\n",
       " 'bu',\n",
       " 'bā',\n",
       " 'ca',\n",
       " 'ce',\n",
       " 'cha',\n",
       " 'che',\n",
       " 'chi',\n",
       " 'chu',\n",
       " 'chā',\n",
       " 'ci',\n",
       " 'co',\n",
       " 'cu',\n",
       " 'cā',\n",
       " 'cū',\n",
       " 'da',\n",
       " 'de',\n",
       " 'dha',\n",
       " 'dhe',\n",
       " 'dhi',\n",
       " 'dho',\n",
       " 'dhu',\n",
       " 'dhā',\n",
       " 'dhī',\n",
       " 'dhū',\n",
       " 'di',\n",
       " 'do',\n",
       " 'du',\n",
       " 'dā',\n",
       " 'dī',\n",
       " 'e',\n",
       " 'ga',\n",
       " 'ge',\n",
       " 'gha',\n",
       " 'ghe',\n",
       " 'gho',\n",
       " 'ghu',\n",
       " 'ghā',\n",
       " 'gi',\n",
       " 'go',\n",
       " 'gu',\n",
       " 'gā',\n",
       " 'ha',\n",
       " 'he',\n",
       " 'hi',\n",
       " 'ho',\n",
       " 'hu',\n",
       " 'hā',\n",
       " 'hī',\n",
       " 'hū',\n",
       " 'i',\n",
       " 'ja',\n",
       " 'je',\n",
       " 'jha',\n",
       " 'jhi',\n",
       " 'jhā',\n",
       " 'ji',\n",
       " 'jo',\n",
       " 'ju',\n",
       " 'jā',\n",
       " 'jī',\n",
       " 'jū',\n",
       " 'ka',\n",
       " 'ke',\n",
       " 'kha',\n",
       " 'khe',\n",
       " 'khi',\n",
       " 'kho',\n",
       " 'khu',\n",
       " 'khā',\n",
       " 'khī',\n",
       " 'ki',\n",
       " 'ko',\n",
       " 'ku',\n",
       " 'kā',\n",
       " 'kī',\n",
       " 'kū',\n",
       " 'la',\n",
       " 'le',\n",
       " 'li',\n",
       " 'lo',\n",
       " 'lu',\n",
       " 'lā',\n",
       " 'lī',\n",
       " 'lū',\n",
       " 'ma',\n",
       " 'me',\n",
       " 'mi',\n",
       " 'mo',\n",
       " 'mu',\n",
       " 'mā',\n",
       " 'mī',\n",
       " 'mū',\n",
       " 'na',\n",
       " 'ne',\n",
       " 'ni',\n",
       " 'no',\n",
       " 'nu',\n",
       " 'nā',\n",
       " 'nī',\n",
       " 'nū',\n",
       " 'o',\n",
       " 'pa',\n",
       " 'pe',\n",
       " 'pha',\n",
       " 'phe',\n",
       " 'phā',\n",
       " 'pi',\n",
       " 'po',\n",
       " 'pu',\n",
       " 'pā',\n",
       " 'pī',\n",
       " 'ra',\n",
       " 're',\n",
       " 'ri',\n",
       " 'ro',\n",
       " 'ru',\n",
       " 'rā',\n",
       " 'rī',\n",
       " 'rū',\n",
       " 'sa',\n",
       " 'se',\n",
       " 'si',\n",
       " 'so',\n",
       " 'su',\n",
       " 'sā',\n",
       " 'sī',\n",
       " 'sū',\n",
       " 'ta',\n",
       " 'te',\n",
       " 'tha',\n",
       " 'the',\n",
       " 'thi',\n",
       " 'thu',\n",
       " 'thā',\n",
       " 'thī',\n",
       " 'ti',\n",
       " 'to',\n",
       " 'tu',\n",
       " 'tā',\n",
       " 'tī',\n",
       " 'tū',\n",
       " 'u',\n",
       " 'va',\n",
       " 've',\n",
       " 'vi',\n",
       " 'vo',\n",
       " 'vu',\n",
       " 'vā',\n",
       " 'vī',\n",
       " 'vū',\n",
       " 'ya',\n",
       " 'ye',\n",
       " 'yi',\n",
       " 'yo',\n",
       " 'yu',\n",
       " 'yā',\n",
       " 'yī',\n",
       " 'yū',\n",
       " 'ña',\n",
       " 'ñe',\n",
       " 'ño',\n",
       " 'ñā',\n",
       " 'ā',\n",
       " 'śa',\n",
       " 'śi',\n",
       " 'śu',\n",
       " 'śā',\n",
       " 'ḍa',\n",
       " 'ḍe',\n",
       " 'ḍha',\n",
       " 'ḍhe',\n",
       " 'ḍhi',\n",
       " 'ḍhā',\n",
       " 'ḍhī',\n",
       " 'ḍi',\n",
       " 'ḍu',\n",
       " 'ḍā',\n",
       " 'ḍī',\n",
       " 'ṇa',\n",
       " 'ṇe',\n",
       " 'ṇi',\n",
       " 'ṇā',\n",
       " 'ṇī',\n",
       " 'ṣa',\n",
       " 'ṣe',\n",
       " 'ṣi',\n",
       " 'ṣo',\n",
       " 'ṣu',\n",
       " 'ṣā',\n",
       " 'ṭa',\n",
       " 'ṭe',\n",
       " 'ṭha',\n",
       " 'ṭhe',\n",
       " 'ṭhi',\n",
       " 'ṭhā',\n",
       " 'ṭhī',\n",
       " 'ṭhū',\n",
       " 'ṭi',\n",
       " 'ṭu',\n",
       " 'ṭā',\n",
       " 'ṭī']"
      ]
     },
     "execution_count": 4,
     "metadata": {},
     "output_type": "execute_result"
    }
   ],
   "source": [
    "# Obtaining Class Names\n",
    "\n",
    "class_names = train_data.class_names\n",
    "class_names"
   ]
  },
  {
   "cell_type": "code",
   "execution_count": 8,
   "id": "bb00afef",
   "metadata": {},
   "outputs": [
    {
     "name": "stdout",
     "output_type": "stream",
     "text": [
      "Model: \"sequential_1\"\n",
      "_________________________________________________________________\n",
      " Layer (type)                Output Shape              Param #   \n",
      "=================================================================\n",
      " conv2d_2 (Conv2D)           (None, 109, 109, 6)       300       \n",
      "                                                                 \n",
      " max_pooling2d_2 (MaxPooling  (None, 54, 54, 6)        0         \n",
      " 2D)                                                             \n",
      "                                                                 \n",
      " conv2d_3 (Conv2D)           (None, 26, 26, 16)        880       \n",
      "                                                                 \n",
      " max_pooling2d_3 (MaxPooling  (None, 12, 12, 16)       0         \n",
      " 2D)                                                             \n",
      "                                                                 \n",
      " flatten_1 (Flatten)         (None, 2304)              0         \n",
      "                                                                 \n",
      " dense_2 (Dense)             (None, 128)               295040    \n",
      "                                                                 \n",
      " dense_3 (Dense)             (None, 214)               27606     \n",
      "                                                                 \n",
      "=================================================================\n",
      "Total params: 323,826\n",
      "Trainable params: 323,826\n",
      "Non-trainable params: 0\n",
      "_________________________________________________________________\n"
     ]
    }
   ],
   "source": [
    "import matplotlib.pylab as plt\n",
    "import tensorflow as tf\n",
    "from keras.models import Sequential\n",
    "\n",
    "lenet = Sequential()\n",
    "lenet.add(Conv2D(filters = 6, kernel_size = 7, strides = 2, activation = 'sigmoid', input_shape = (224,224,1)))\n",
    "lenet.add(MaxPooling2D(pool_size = 3, strides = 2))\n",
    "lenet.add(Conv2D(filters = 16, kernel_size = 3, strides = 2, activation = 'sigmoid', input_shape = (112,112,64)))\n",
    "lenet.add(MaxPooling2D(pool_size = 3, strides = 2))\n",
    "lenet.add(Flatten())\n",
    "lenet.add(Dense(units = 128, activation = 'elu'))\n",
    "lenet.add(Dense(214,activation = 'softmax'))\n",
    "\n",
    "lenet.summary()"
   ]
  },
  {
   "cell_type": "code",
   "execution_count": 9,
   "id": "a3c70ee5",
   "metadata": {},
   "outputs": [],
   "source": [
    "lenet.compile(optimizer = tf.keras.optimizers.Adam(learning_rate = 0.01), loss = 'sparse_categorical_crossentropy', metrics = ['accuracy'])"
   ]
  },
  {
   "cell_type": "code",
   "execution_count": 7,
   "id": "6a73c5e9",
   "metadata": {
    "scrolled": false
   },
   "outputs": [
    {
     "name": "stdout",
     "output_type": "stream",
     "text": [
      "Epoch 1/50\n",
      "4965/4965 [==============================] - 2113s 425ms/step - loss: 3.6051 - accuracy: 0.1965 - val_loss: 2.4542 - val_accuracy: 0.3784\n",
      "Epoch 2/50\n",
      "4965/4965 [==============================] - 431s 87ms/step - loss: 1.9330 - accuracy: 0.4830 - val_loss: 1.7420 - val_accuracy: 0.5315\n",
      "Epoch 3/50\n",
      "4965/4965 [==============================] - 459s 92ms/step - loss: 1.5064 - accuracy: 0.5801 - val_loss: 1.4182 - val_accuracy: 0.6000\n",
      "Epoch 4/50\n",
      "4965/4965 [==============================] - 481s 97ms/step - loss: 1.2699 - accuracy: 0.6384 - val_loss: 1.3200 - val_accuracy: 0.6325\n",
      "Epoch 5/50\n",
      "4965/4965 [==============================] - 471s 95ms/step - loss: 1.1266 - accuracy: 0.6758 - val_loss: 1.2209 - val_accuracy: 0.6582\n",
      "Epoch 6/50\n",
      "4965/4965 [==============================] - 470s 95ms/step - loss: 1.0354 - accuracy: 0.6989 - val_loss: 1.2540 - val_accuracy: 0.6572\n",
      "Epoch 7/50\n",
      "4965/4965 [==============================] - 414s 83ms/step - loss: 0.9809 - accuracy: 0.7135 - val_loss: 1.2667 - val_accuracy: 0.6555\n",
      "Epoch 8/50\n",
      "4965/4965 [==============================] - 415s 83ms/step - loss: 0.9218 - accuracy: 0.7289 - val_loss: 1.0673 - val_accuracy: 0.7089\n",
      "Epoch 9/50\n",
      "4965/4965 [==============================] - 419s 84ms/step - loss: 0.8533 - accuracy: 0.7488 - val_loss: 1.1047 - val_accuracy: 0.7024\n",
      "Epoch 10/50\n",
      "4965/4965 [==============================] - 425s 85ms/step - loss: 0.8336 - accuracy: 0.7544 - val_loss: 1.1863 - val_accuracy: 0.6915\n",
      "Epoch 11/50\n",
      "4965/4965 [==============================] - 428s 86ms/step - loss: 0.7949 - accuracy: 0.7646 - val_loss: 1.1138 - val_accuracy: 0.7027\n",
      "Epoch 12/50\n",
      "4965/4965 [==============================] - 430s 87ms/step - loss: 0.7991 - accuracy: 0.7637 - val_loss: 1.2146 - val_accuracy: 0.6999\n"
     ]
    }
   ],
   "source": [
    "epochs= 50\n",
    "callback = tf.keras.callbacks.EarlyStopping(patience = 5, restore_best_weights = True)\n",
    "history = lenet.fit(\n",
    "  train_data,\n",
    "  validation_data=val_data,\n",
    "  epochs=epochs,\n",
    "  verbose = 1,\n",
    "  callbacks = [callback]\n",
    ")"
   ]
  },
  {
   "cell_type": "code",
   "execution_count": 12,
   "id": "3c85d331",
   "metadata": {},
   "outputs": [
    {
     "data": {
      "image/png": "[encoded data removed]",
      "text/plain": [
       "<Figure size 432x288 with 1 Axes>"
      ]
     },
     "metadata": {
      "needs_background": "light"
     },
     "output_type": "display_data"
    }
   ],
   "source": [
    "# Plotting of Validation and Training Loss\n",
    "\n",
    "loss_train = history.history['loss']\n",
    "loss_val = history.history['val_loss']\n",
    "epochs = range(1,13)   # ======== Adjust this! ==========\n",
    "plt.plot(epochs, loss_train, 'g', label='Training loss')\n",
    "plt.plot(epochs, loss_val, 'b', label='validation loss')\n",
    "plt.title('Training and Validation loss')\n",
    "plt.xlabel('Epochs')\n",
    "plt.ylabel('Loss')\n",
    "plt.legend()\n",
    "plt.show()"
   ]
  },
  {
   "cell_type": "code",
   "execution_count": 14,
   "id": "8df2ea93",
   "metadata": {},
   "outputs": [
    {
     "data": {
      "image/png": "[encoded data removed]",
      "text/plain": [
       "<Figure size 432x288 with 1 Axes>"
      ]
     },
     "metadata": {
      "needs_background": "light"
     },
     "output_type": "display_data"
    }
   ],
   "source": [
    "# Plotting of Validation and Training Accuracy \n",
    "\n",
    "loss_train = history.history['accuracy']\n",
    "loss_val = history.history['val_accuracy']\n",
    "epochs = range(1,13)   # ========== Adjust This! ==========\n",
    "plt.plot(epochs, loss_train, 'g', label='Training accuracy')\n",
    "plt.plot(epochs, loss_val, 'b', label='validation accuracy')\n",
    "plt.title('Training and Validation accuracy')\n",
    "plt.xlabel('Epochs')\n",
    "plt.ylabel('Accuracy')\n",
    "plt.legend()\n",
    "plt.show()"
   ]
  },
  {
   "cell_type": "code",
   "execution_count": 11,
   "id": "a84ee902",
   "metadata": {},
   "outputs": [],
   "source": [
    "model_json = mobilenet.to_json()\n",
    "with open(\"super_model_arch.json\", \"w\") as json_file:\n",
    "    json_file.write(model_json)\n",
    "    \n",
    "mobilenet.save_weights(\"super_model_weights.h5\")"
   ]
  },
  {
   "cell_type": "code",
   "execution_count": 12,
   "id": "eac6931c",
   "metadata": {},
   "outputs": [],
   "source": [
    "from keras.models import model_from_json\n",
    "model = model_from_json(open('super_model_arch.json').read())\n",
    "\n",
    "model.load_weights('super_model_weights.h5')"
   ]
  },
  {
   "cell_type": "code",
   "execution_count": 16,
   "id": "a8f08b18",
   "metadata": {},
   "outputs": [
    {
     "name": "stdout",
     "output_type": "stream",
     "text": [
      "1/1 [==============================] - 0s 29ms/step\n"
     ]
    }
   ],
   "source": [
    "import cv2\n",
    "import numpy as np\n",
    "\n",
    "img_path = 'samples/38.png'\n",
    "\n",
    "# image_resized= cv2.resize(image, (224,224))\n",
    "# image=np.expand_dims(image_resized,axis=0)\n",
    "\n",
    "def prepare(file):\n",
    "    IMG_SIZE = 224\n",
    "    \n",
    "    image = cv2.imread(file)\n",
    "    image_resized= cv2.resize(image, (224,224))\n",
    "    image=np.expand_dims(image_resized,axis=0)\n",
    "    return image\n",
    "    \n",
    "# def prepare(file):\n",
    "# #     IMG_SIZE_X = 100\n",
    "# #     IMG_SIZE_Y = 140\n",
    "#     img_array = cv2.imread(file, cv2.IMREAD_GRAYSCALE)\n",
    "# #     new_array = cv2.resize(img_array, (IMG_SIZE_X, IMG_SIZE_Y))\n",
    "#     return img_array.reshape(-1, 100, 140, 1)\n",
    "img_file = prepare(img_path)\n",
    "pred = model.predict(img_file)\n",
    "output_class = class_names[np.argmax(pred)]"
   ]
  },
  {
   "cell_type": "code",
   "execution_count": 14,
   "id": "2b45c609",
   "metadata": {},
   "outputs": [
    {
     "data": {
      "text/plain": [
       "array([[5.39534772e-03, 2.23994642e-19, 5.53604895e-15, 5.30124709e-08,\n",
       "        2.53723431e-11, 4.03534628e-08, 9.42880553e-14, 3.90411659e-09,\n",
       "        6.61538478e-13, 1.96830197e-09, 8.73548248e-11, 1.46658196e-12,\n",
       "        2.35407545e-15, 1.98553773e-09, 1.96657355e-15, 3.27455667e-11,\n",
       "        2.36616149e-08, 1.27133262e-10, 6.43658793e-10, 4.11453954e-10,\n",
       "        1.07126215e-13, 1.06085193e-12, 6.41042108e-09, 1.56682152e-08,\n",
       "        8.24216073e-08, 1.78737407e-12, 8.02472916e-14, 5.31539646e-10,\n",
       "        6.32427305e-11, 8.56366866e-10, 4.36245662e-09, 2.95314076e-05,\n",
       "        5.25638699e-10, 1.20755267e-10, 9.73604131e-09, 9.83423233e-01,\n",
       "        4.18168350e-15, 3.57155169e-13, 2.58432520e-09, 9.52717679e-12,\n",
       "        9.41191292e-11, 7.20846094e-09, 2.04406266e-15, 8.95975351e-13,\n",
       "        4.55646116e-08, 7.59329318e-12, 5.11165240e-07, 7.71869073e-14,\n",
       "        5.27132366e-11, 1.37637091e-12, 2.14046381e-08, 8.73736500e-11,\n",
       "        9.63369365e-15, 4.95187467e-11, 2.09648249e-12, 1.37962549e-11,\n",
       "        4.63401628e-09, 3.21026272e-09, 9.36928451e-11, 2.50002574e-13,\n",
       "        5.21280630e-10, 8.34733783e-06, 5.03172374e-12, 1.64444673e-12,\n",
       "        4.22107800e-11, 2.72623634e-12, 2.34977615e-09, 3.69857817e-13,\n",
       "        9.90534044e-11, 2.16072333e-08, 5.24692269e-13, 8.22597402e-14,\n",
       "        5.00048447e-09, 1.98175147e-08, 9.68825280e-12, 1.60474265e-08,\n",
       "        6.20123899e-08, 2.98180369e-10, 5.80331980e-05, 1.97892518e-07,\n",
       "        2.54620935e-10, 1.76792170e-09, 3.38714557e-07, 1.30219641e-10,\n",
       "        5.83737756e-13, 4.67291733e-13, 3.68237996e-10, 6.30157402e-08,\n",
       "        8.56015259e-11, 1.46209517e-10, 1.89578540e-08, 6.73089318e-08,\n",
       "        2.17743011e-11, 9.92961191e-07, 1.02672137e-09, 3.99220113e-07,\n",
       "        3.61040191e-12, 3.35605428e-08, 9.15379985e-07, 7.38126710e-06,\n",
       "        2.60775956e-10, 1.11510315e-06, 9.42665065e-06, 1.84779747e-05,\n",
       "        1.83775992e-04, 3.95105870e-19, 1.66502209e-15, 5.17313091e-16,\n",
       "        4.64144541e-17, 3.72395528e-13, 2.26670468e-19, 3.39391364e-14,\n",
       "        2.35281803e-08, 1.24183385e-19, 3.74995292e-15, 1.39192741e-10,\n",
       "        2.09635590e-11, 5.83605662e-08, 1.48302049e-16, 6.89598378e-11,\n",
       "        2.62796382e-12, 1.18541899e-10, 5.56783852e-15, 2.49281300e-07,\n",
       "        5.38977973e-10, 1.18531807e-09, 3.94391122e-07, 4.66788777e-08,\n",
       "        1.18428054e-13, 2.67072355e-08, 1.33091598e-05, 5.08616656e-11,\n",
       "        1.05802522e-08, 6.56800268e-08, 6.51515369e-11, 4.92049734e-10,\n",
       "        8.66179835e-06, 5.63228186e-10, 1.56113291e-08, 1.03641618e-02,\n",
       "        1.69566294e-09, 3.56159796e-10, 7.03937776e-14, 3.67238897e-08,\n",
       "        5.76101389e-09, 2.19396293e-06, 3.24094999e-13, 3.34729295e-04,\n",
       "        2.35123885e-08, 6.67811008e-14, 2.30976932e-10, 3.27133071e-10,\n",
       "        4.35851107e-05, 4.67312367e-09, 5.50907423e-26, 3.43002571e-10,\n",
       "        4.66585798e-12, 4.01165516e-12, 1.37179537e-15, 4.83588725e-09,\n",
       "        1.46694878e-08, 1.02808375e-08, 1.27065622e-10, 4.30762901e-13,\n",
       "        6.91685043e-11, 1.69549552e-12, 1.85080987e-12, 6.78464437e-11,\n",
       "        7.92415363e-16, 4.55014672e-12, 7.53052898e-11, 6.34191430e-13,\n",
       "        2.30666592e-06, 3.40679821e-06, 3.86039499e-11, 5.33157981e-05,\n",
       "        1.14823839e-09, 1.26940625e-10, 8.30784833e-12, 2.79785611e-10,\n",
       "        3.78706869e-16, 1.39478546e-16, 1.64076184e-07, 3.17332782e-09,\n",
       "        7.79411948e-08, 1.14052296e-08, 3.42094972e-05, 2.57092843e-16,\n",
       "        6.34990832e-19, 6.13556659e-15, 2.70421950e-13, 2.46788384e-18,\n",
       "        1.48144368e-15, 1.53288352e-12, 3.64647869e-16, 1.13230206e-11,\n",
       "        2.37186072e-07, 4.01633284e-12, 1.23744459e-09, 1.55443844e-12,\n",
       "        5.78848081e-10, 2.19570924e-11, 3.57785277e-20, 2.34899482e-14,\n",
       "        4.24454869e-18, 9.27772026e-11, 1.45172457e-10, 8.77213409e-14,\n",
       "        5.55734061e-13, 2.10872042e-10, 3.19578179e-14, 1.49638704e-15,\n",
       "        4.27273885e-16, 5.07358044e-11]], dtype=float32)"
      ]
     },
     "execution_count": 14,
     "metadata": {},
     "output_type": "execute_result"
    }
   ],
   "source": [
    "pred"
   ]
  },
  {
   "cell_type": "code",
   "execution_count": 17,
   "id": "7e9c9c3a",
   "metadata": {},
   "outputs": [
    {
     "data": {
      "text/plain": [
       "'vi'"
      ]
     },
     "execution_count": 17,
     "metadata": {},
     "output_type": "execute_result"
    }
   ],
   "source": [
    "output_class"
   ]
  }
 ],
 "metadata": {
  "kernelspec": {
   "display_name": "Python 3 (ipykernel)",
   "language": "python",
   "name": "python3"
  },
  "language_info": {
   "codemirror_mode": {
    "name": "ipython",
    "version": 3
   },
   "file_extension": ".py",
   "mimetype": "text/x-python",
   "name": "python",
   "nbconvert_exporter": "python",
   "pygments_lexer": "ipython3",
   "version": "3.10.5"
  }
 },
 "nbformat": 4,
 "nbformat_minor": 5
}
