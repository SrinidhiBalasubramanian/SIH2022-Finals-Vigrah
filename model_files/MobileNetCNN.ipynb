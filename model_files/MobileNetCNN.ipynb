{
 "cells": [
  {
   "cell_type": "code",
   "execution_count": 1,
   "id": "303c451a",
   "metadata": {},
   "outputs": [],
   "source": [
    "# Importing required python libraries\n",
    "\n",
    "import tensorflow as tf\n",
    "import matplotlib.pyplot as plt\n",
    "import keras \n",
    "from keras.layers import Conv2D, Activation, MaxPooling2D, Dense, Dropout, Flatten\n",
    "import cv2"
   ]
  },
  {
   "cell_type": "code",
   "execution_count": 8,
   "id": "9ad53f3e",
   "metadata": {},
   "outputs": [
    {
     "name": "stdout",
     "output_type": "stream",
     "text": [
      "Found 226955 files belonging to 214 classes.\n",
      "Using 158869 files for training.\n"
     ]
    }
   ],
   "source": [
    "# Obtaining Training Dataset from Local Directory\n",
    "\n",
    "train_data = tf.keras.utils.image_dataset_from_directory(\n",
    "    \"../Aug_Dataset\"\n",
    "    , labels = 'inferred'\n",
    "    , label_mode = 'int'\n",
    "    , image_size=(224, 224)\n",
    "    , color_mode = 'rgb'\n",
    "    , shuffle = True\n",
    "    , seed = 101\n",
    "    , validation_split = 0.3\n",
    "    , subset = \"training\"   \n",
    ")"
   ]
  },
  {
   "cell_type": "code",
   "execution_count": 9,
   "id": "bb7c13d8",
   "metadata": {},
   "outputs": [
    {
     "name": "stdout",
     "output_type": "stream",
     "text": [
      "Found 226955 files belonging to 214 classes.\n",
      "Using 68086 files for validation.\n"
     ]
    }
   ],
   "source": [
    "# Obtaining Validation Dataset from Local Directory\n",
    "\n",
    "val_data = tf.keras.utils.image_dataset_from_directory(\n",
    "    \"../Aug_Dataset\"\n",
    "    , labels = 'inferred'\n",
    "    , label_mode = 'int'\n",
    "    , image_size=(224, 224)\n",
    "    , color_mode = 'rgb'\n",
    "    , shuffle = True\n",
    "    , seed = 101\n",
    "    , validation_split = 0.3\n",
    "    , subset = \"validation\"   \n",
    ")"
   ]
  },
  {
   "cell_type": "code",
   "execution_count": 10,
   "id": "317c1ae0",
   "metadata": {},
   "outputs": [
    {
     "data": {
      "text/plain": [
       "['a',\n",
       " 'ba',\n",
       " 'be',\n",
       " 'bha',\n",
       " 'bhe',\n",
       " 'bhi',\n",
       " 'bho',\n",
       " 'bhu',\n",
       " 'bhā',\n",
       " 'bhī',\n",
       " 'bhū',\n",
       " 'bi',\n",
       " 'bo',\n",
       " 'bu',\n",
       " 'bā',\n",
       " 'ca',\n",
       " 'ce',\n",
       " 'cha',\n",
       " 'che',\n",
       " 'chi',\n",
       " 'chu',\n",
       " 'chā',\n",
       " 'ci',\n",
       " 'co',\n",
       " 'cu',\n",
       " 'cā',\n",
       " 'cū',\n",
       " 'da',\n",
       " 'de',\n",
       " 'dha',\n",
       " 'dhe',\n",
       " 'dhi',\n",
       " 'dho',\n",
       " 'dhu',\n",
       " 'dhā',\n",
       " 'dhī',\n",
       " 'dhū',\n",
       " 'di',\n",
       " 'do',\n",
       " 'du',\n",
       " 'dā',\n",
       " 'dī',\n",
       " 'e',\n",
       " 'ga',\n",
       " 'ge',\n",
       " 'gha',\n",
       " 'ghe',\n",
       " 'gho',\n",
       " 'ghu',\n",
       " 'ghā',\n",
       " 'gi',\n",
       " 'go',\n",
       " 'gu',\n",
       " 'gā',\n",
       " 'ha',\n",
       " 'he',\n",
       " 'hi',\n",
       " 'ho',\n",
       " 'hu',\n",
       " 'hā',\n",
       " 'hī',\n",
       " 'hū',\n",
       " 'i',\n",
       " 'ja',\n",
       " 'je',\n",
       " 'jha',\n",
       " 'jhi',\n",
       " 'jhā',\n",
       " 'ji',\n",
       " 'jo',\n",
       " 'ju',\n",
       " 'jā',\n",
       " 'jī',\n",
       " 'jū',\n",
       " 'ka',\n",
       " 'ke',\n",
       " 'kha',\n",
       " 'khe',\n",
       " 'khi',\n",
       " 'kho',\n",
       " 'khu',\n",
       " 'khā',\n",
       " 'khī',\n",
       " 'ki',\n",
       " 'ko',\n",
       " 'ku',\n",
       " 'kā',\n",
       " 'kī',\n",
       " 'kū',\n",
       " 'la',\n",
       " 'le',\n",
       " 'li',\n",
       " 'lo',\n",
       " 'lu',\n",
       " 'lā',\n",
       " 'lī',\n",
       " 'lū',\n",
       " 'ma',\n",
       " 'me',\n",
       " 'mi',\n",
       " 'mo',\n",
       " 'mu',\n",
       " 'mā',\n",
       " 'mī',\n",
       " 'mū',\n",
       " 'na',\n",
       " 'ne',\n",
       " 'ni',\n",
       " 'no',\n",
       " 'nu',\n",
       " 'nā',\n",
       " 'nī',\n",
       " 'nū',\n",
       " 'o',\n",
       " 'pa',\n",
       " 'pe',\n",
       " 'pha',\n",
       " 'phe',\n",
       " 'phā',\n",
       " 'pi',\n",
       " 'po',\n",
       " 'pu',\n",
       " 'pā',\n",
       " 'pī',\n",
       " 'ra',\n",
       " 're',\n",
       " 'ri',\n",
       " 'ro',\n",
       " 'ru',\n",
       " 'rā',\n",
       " 'rī',\n",
       " 'rū',\n",
       " 'sa',\n",
       " 'se',\n",
       " 'si',\n",
       " 'so',\n",
       " 'su',\n",
       " 'sā',\n",
       " 'sī',\n",
       " 'sū',\n",
       " 'ta',\n",
       " 'te',\n",
       " 'tha',\n",
       " 'the',\n",
       " 'thi',\n",
       " 'thu',\n",
       " 'thā',\n",
       " 'thī',\n",
       " 'ti',\n",
       " 'to',\n",
       " 'tu',\n",
       " 'tā',\n",
       " 'tī',\n",
       " 'tū',\n",
       " 'u',\n",
       " 'va',\n",
       " 've',\n",
       " 'vi',\n",
       " 'vo',\n",
       " 'vu',\n",
       " 'vā',\n",
       " 'vī',\n",
       " 'vū',\n",
       " 'ya',\n",
       " 'ye',\n",
       " 'yi',\n",
       " 'yo',\n",
       " 'yu',\n",
       " 'yā',\n",
       " 'yī',\n",
       " 'yū',\n",
       " 'ña',\n",
       " 'ñe',\n",
       " 'ño',\n",
       " 'ñā',\n",
       " 'ā',\n",
       " 'śa',\n",
       " 'śi',\n",
       " 'śu',\n",
       " 'śā',\n",
       " 'ḍa',\n",
       " 'ḍe',\n",
       " 'ḍha',\n",
       " 'ḍhe',\n",
       " 'ḍhi',\n",
       " 'ḍhā',\n",
       " 'ḍhī',\n",
       " 'ḍi',\n",
       " 'ḍu',\n",
       " 'ḍā',\n",
       " 'ḍī',\n",
       " 'ṇa',\n",
       " 'ṇe',\n",
       " 'ṇi',\n",
       " 'ṇā',\n",
       " 'ṇī',\n",
       " 'ṣa',\n",
       " 'ṣe',\n",
       " 'ṣi',\n",
       " 'ṣo',\n",
       " 'ṣu',\n",
       " 'ṣā',\n",
       " 'ṭa',\n",
       " 'ṭe',\n",
       " 'ṭha',\n",
       " 'ṭhe',\n",
       " 'ṭhi',\n",
       " 'ṭhā',\n",
       " 'ṭhī',\n",
       " 'ṭhū',\n",
       " 'ṭi',\n",
       " 'ṭu',\n",
       " 'ṭā',\n",
       " 'ṭī']"
      ]
     },
     "execution_count": 10,
     "metadata": {},
     "output_type": "execute_result"
    }
   ],
   "source": [
    "# Obtaining Class Names\n",
    "\n",
    "class_names = train_data.class_names\n",
    "class_names"
   ]
  },
  {
   "cell_type": "code",
   "execution_count": 11,
   "id": "bb00afef",
   "metadata": {},
   "outputs": [
    {
     "name": "stdout",
     "output_type": "stream",
     "text": [
      "Model: \"sequential\"\n",
      "_________________________________________________________________\n",
      " Layer (type)                Output Shape              Param #   \n",
      "=================================================================\n",
      " mobilenet_1.00_224 (Functio  (None, 1024)             3228864   \n",
      " nal)                                                            \n",
      "                                                                 \n",
      " flatten (Flatten)           (None, 1024)              0         \n",
      "                                                                 \n",
      " dense (Dense)               (None, 128)               131200    \n",
      "                                                                 \n",
      " dense_1 (Dense)             (None, 214)               27606     \n",
      "                                                                 \n",
      "=================================================================\n",
      "Total params: 3,387,670\n",
      "Trainable params: 158,806\n",
      "Non-trainable params: 3,228,864\n",
      "_________________________________________________________________\n"
     ]
    }
   ],
   "source": [
    "import matplotlib.pylab as plt\n",
    "import tensorflow as tf\n",
    "from keras.models import Sequential\n",
    "\n",
    "mobilenet = Sequential()\n",
    "\n",
    "pretrained = tf.keras.applications.mobilenet.MobileNet(\n",
    "    input_shape=(224,224,3),\n",
    "    alpha=1.0,\n",
    "    depth_multiplier=1,\n",
    "    dropout=0.001,\n",
    "    include_top=False,\n",
    "    weights='imagenet',\n",
    "    input_tensor=None,\n",
    "    pooling='max',\n",
    "    classes=1000,\n",
    "    classifier_activation='softmax',\n",
    ")\n",
    "\n",
    "for layer in pretrained.layers:\n",
    "    layer.trainable = False\n",
    "\n",
    "mobilenet.add(pretrained)\n",
    "mobilenet.add(Flatten())\n",
    "mobilenet.add(Dense(128, activation = 'elu'))\n",
    "mobilenet.add(Dense(214,activation = 'softmax'))\n",
    "\n",
    "mobilenet.summary()"
   ]
  },
  {
   "cell_type": "code",
   "execution_count": 12,
   "id": "a3c70ee5",
   "metadata": {},
   "outputs": [],
   "source": [
    "mobilenet.compile(optimizer = tf.keras.optimizers.Adam(learning_rate = 0.0001), loss = 'sparse_categorical_crossentropy', metrics = ['accuracy'])"
   ]
  },
  {
   "cell_type": "code",
   "execution_count": 13,
   "id": "6a73c5e9",
   "metadata": {
    "scrolled": false
   },
   "outputs": [
    {
     "name": "stdout",
     "output_type": "stream",
     "text": [
      "Epoch 1/50\n",
      "4965/4965 [==============================] - 2609s 525ms/step - loss: 2.5614 - accuracy: 0.4130 - val_loss: 1.2191 - val_accuracy: 0.6595\n",
      "Epoch 2/50\n",
      "4965/4965 [==============================] - 2509s 505ms/step - loss: 0.9137 - accuracy: 0.7392 - val_loss: 0.7406 - val_accuracy: 0.7833\n",
      "Epoch 3/50\n",
      "4965/4965 [==============================] - 2495s 503ms/step - loss: 0.5936 - accuracy: 0.8263 - val_loss: 0.5540 - val_accuracy: 0.8344\n",
      "Epoch 4/50\n",
      "4965/4965 [==============================] - 2546s 513ms/step - loss: 0.4436 - accuracy: 0.8700 - val_loss: 0.4573 - val_accuracy: 0.8606\n",
      "Epoch 5/50\n",
      "4965/4965 [==============================] - 2587s 521ms/step - loss: 0.3531 - accuracy: 0.8973 - val_loss: 0.3932 - val_accuracy: 0.8790\n",
      "Epoch 6/50\n",
      "4965/4965 [==============================] - 2499s 503ms/step - loss: 0.2929 - accuracy: 0.9148 - val_loss: 0.3610 - val_accuracy: 0.8865\n",
      "Epoch 7/50\n",
      "4965/4965 [==============================] - 3499s 705ms/step - loss: 0.2494 - accuracy: 0.9280 - val_loss: 0.3274 - val_accuracy: 0.8966\n",
      "Epoch 8/50\n",
      "4965/4965 [==============================] - 3000s 604ms/step - loss: 0.2158 - accuracy: 0.9382 - val_loss: 0.3035 - val_accuracy: 0.9035\n",
      "Epoch 9/50\n",
      "4965/4965 [==============================] - 2562s 516ms/step - loss: 0.1888 - accuracy: 0.9467 - val_loss: 0.2947 - val_accuracy: 0.9062\n",
      "Epoch 10/50\n",
      "4965/4965 [==============================] - 5919s 1s/step - loss: 0.1667 - accuracy: 0.9532 - val_loss: 0.2812 - val_accuracy: 0.9097\n",
      "Epoch 11/50\n",
      "4965/4965 [==============================] - 7804s 2s/step - loss: 0.1481 - accuracy: 0.9594 - val_loss: 0.2672 - val_accuracy: 0.9141\n",
      "Epoch 12/50\n",
      "4965/4965 [==============================] - 2342s 472ms/step - loss: 0.1327 - accuracy: 0.9639 - val_loss: 0.2637 - val_accuracy: 0.9153\n",
      "Epoch 13/50\n",
      "4965/4965 [==============================] - 5121s 1s/step - loss: 0.1186 - accuracy: 0.9687 - val_loss: 0.2536 - val_accuracy: 0.9190\n",
      "Epoch 14/50\n",
      "4965/4965 [==============================] - 2495s 502ms/step - loss: 0.1069 - accuracy: 0.9721 - val_loss: 0.2519 - val_accuracy: 0.9197\n",
      "Epoch 15/50\n",
      "4965/4965 [==============================] - 2507s 505ms/step - loss: 0.0961 - accuracy: 0.9754 - val_loss: 0.2448 - val_accuracy: 0.9221\n",
      "Epoch 16/50\n",
      "4965/4965 [==============================] - 2556s 515ms/step - loss: 0.0865 - accuracy: 0.9784 - val_loss: 0.2427 - val_accuracy: 0.9237\n",
      "Epoch 17/50\n",
      "4965/4965 [==============================] - 2481s 500ms/step - loss: 0.0779 - accuracy: 0.9813 - val_loss: 0.2505 - val_accuracy: 0.9217\n",
      "Epoch 18/50\n",
      "4965/4965 [==============================] - 2374s 478ms/step - loss: 0.0710 - accuracy: 0.9835 - val_loss: 0.2379 - val_accuracy: 0.9251\n",
      "Epoch 19/50\n",
      "4965/4965 [==============================] - 2353s 474ms/step - loss: 0.0643 - accuracy: 0.9856 - val_loss: 0.2426 - val_accuracy: 0.9249\n",
      "Epoch 20/50\n",
      "4965/4965 [==============================] - 2357s 475ms/step - loss: 0.0580 - accuracy: 0.9872 - val_loss: 0.2462 - val_accuracy: 0.9240\n",
      "Epoch 21/50\n",
      "4965/4965 [==============================] - 2361s 476ms/step - loss: 0.0528 - accuracy: 0.9889 - val_loss: 0.2466 - val_accuracy: 0.9245\n",
      "Epoch 22/50\n",
      "4965/4965 [==============================] - 16027s 3s/step - loss: 0.0478 - accuracy: 0.9902 - val_loss: 0.2507 - val_accuracy: 0.9243\n"
     ]
    }
   ],
   "source": [
    "epochs= 50\n",
    "callback = tf.keras.callbacks.EarlyStopping(patience = 4, restore_best_weights = True)\n",
    "history = mobilenet.fit(\n",
    "  train_data,\n",
    "  validation_data=val_data,\n",
    "  epochs=epochs,\n",
    "  verbose = 1,\n",
    "  callbacks = [callback]\n",
    ")"
   ]
  },
  {
   "cell_type": "code",
   "execution_count": 14,
   "id": "3c85d331",
   "metadata": {},
   "outputs": [
    {
     "data": {
      "image/png": "[encoded data removed]",
      "text/plain": [
       "<Figure size 432x288 with 1 Axes>"
      ]
     },
     "metadata": {
      "needs_background": "light"
     },
     "output_type": "display_data"
    }
   ],
   "source": [
    "# Plotting of Validation and Training Loss\n",
    "\n",
    "loss_train = history.history['loss']\n",
    "loss_val = history.history['val_loss']\n",
    "epochs = range(1,23)   # ======== Adjust this! ==========\n",
    "plt.plot(epochs, loss_train, 'g', label='Training loss')\n",
    "plt.plot(epochs, loss_val, 'b', label='validation loss')\n",
    "plt.title('Training and Validation loss')\n",
    "plt.xlabel('Epochs')\n",
    "plt.ylabel('Loss')\n",
    "plt.legend()\n",
    "plt.show()"
   ]
  },
  {
   "cell_type": "code",
   "execution_count": 15,
   "id": "8df2ea93",
   "metadata": {},
   "outputs": [
    {
     "data": {
      "image/png": "[encoded data removed]",
      "text/plain": [
       "<Figure size 432x288 with 1 Axes>"
      ]
     },
     "metadata": {
      "needs_background": "light"
     },
     "output_type": "display_data"
    }
   ],
   "source": [
    "# Plotting of Validation and Training Accuracy \n",
    "\n",
    "loss_train = history.history['accuracy']\n",
    "loss_val = history.history['val_accuracy']\n",
    "epochs = range(1,23)   # ========== Adjust This! ==========\n",
    "plt.plot(epochs, loss_train, 'g', label='Training accuracy')\n",
    "plt.plot(epochs, loss_val, 'b', label='validation accuracy')\n",
    "plt.title('Training and Validation accuracy')\n",
    "plt.xlabel('Epochs')\n",
    "plt.ylabel('Accuracy')\n",
    "plt.legend()\n",
    "plt.show()"
   ]
  },
  {
   "cell_type": "code",
   "execution_count": 16,
   "id": "a84ee902",
   "metadata": {},
   "outputs": [],
   "source": [
    "model_json = mobilenet.to_json()\n",
    "with open(\"super_model_maxpool_arch.json\", \"w\") as json_file:\n",
    "    json_file.write(model_json)\n",
    "    \n",
    "mobilenet.save_weights(\"super_model_maxpool_weights.h5\")"
   ]
  },
  {
   "cell_type": "code",
   "execution_count": 17,
   "id": "eac6931c",
   "metadata": {},
   "outputs": [],
   "source": [
    "from keras.models import model_from_json\n",
    "model = model_from_json(open('super_model_maxpool_arch.json').read())\n",
    "\n",
    "model.load_weights('super_model_maxpool_weights.h5')"
   ]
  },
  {
   "cell_type": "code",
   "execution_count": 18,
   "id": "a8f08b18",
   "metadata": {
    "collapsed": true
   },
   "outputs": [
    {
     "ename": "error",
     "evalue": "OpenCV(4.6.0) D:\\a\\opencv-python\\opencv-python\\opencv\\modules\\imgproc\\src\\resize.cpp:4052: error: (-215:Assertion failed) !ssize.empty() in function 'cv::resize'\n",
     "output_type": "error",
     "traceback": [
      "\u001b[1;31m---------------------------------------------------------------------------\u001b[0m",
      "\u001b[1;31merror\u001b[0m                                     Traceback (most recent call last)",
      "Input \u001b[1;32mIn [18]\u001b[0m, in \u001b[0;36m<cell line: 23>\u001b[1;34m()\u001b[0m\n\u001b[0;32m     15\u001b[0m     \u001b[38;5;28;01mreturn\u001b[39;00m image\n\u001b[0;32m     17\u001b[0m \u001b[38;5;66;03m# def prepare(file):\u001b[39;00m\n\u001b[0;32m     18\u001b[0m \u001b[38;5;66;03m# #     IMG_SIZE_X = 100\u001b[39;00m\n\u001b[0;32m     19\u001b[0m \u001b[38;5;66;03m# #     IMG_SIZE_Y = 140\u001b[39;00m\n\u001b[0;32m     20\u001b[0m \u001b[38;5;66;03m#     img_array = cv2.imread(file, cv2.IMREAD_GRAYSCALE)\u001b[39;00m\n\u001b[0;32m     21\u001b[0m \u001b[38;5;66;03m# #     new_array = cv2.resize(img_array, (IMG_SIZE_X, IMG_SIZE_Y))\u001b[39;00m\n\u001b[0;32m     22\u001b[0m \u001b[38;5;66;03m#     return img_array.reshape(-1, 100, 140, 1)\u001b[39;00m\n\u001b[1;32m---> 23\u001b[0m img_file \u001b[38;5;241m=\u001b[39m \u001b[43mprepare\u001b[49m\u001b[43m(\u001b[49m\u001b[43mimg_path\u001b[49m\u001b[43m)\u001b[49m\n\u001b[0;32m     24\u001b[0m pred \u001b[38;5;241m=\u001b[39m model\u001b[38;5;241m.\u001b[39mpredict(img_file)\n\u001b[0;32m     25\u001b[0m output_class \u001b[38;5;241m=\u001b[39m class_names[np\u001b[38;5;241m.\u001b[39margmax(pred)]\n",
      "Input \u001b[1;32mIn [18]\u001b[0m, in \u001b[0;36mprepare\u001b[1;34m(file)\u001b[0m\n\u001b[0;32m     10\u001b[0m IMG_SIZE \u001b[38;5;241m=\u001b[39m \u001b[38;5;241m224\u001b[39m\n\u001b[0;32m     12\u001b[0m image \u001b[38;5;241m=\u001b[39m cv2\u001b[38;5;241m.\u001b[39mimread(file)\n\u001b[1;32m---> 13\u001b[0m image_resized\u001b[38;5;241m=\u001b[39m \u001b[43mcv2\u001b[49m\u001b[38;5;241;43m.\u001b[39;49m\u001b[43mresize\u001b[49m\u001b[43m(\u001b[49m\u001b[43mimage\u001b[49m\u001b[43m,\u001b[49m\u001b[43m \u001b[49m\u001b[43m(\u001b[49m\u001b[38;5;241;43m224\u001b[39;49m\u001b[43m,\u001b[49m\u001b[38;5;241;43m224\u001b[39;49m\u001b[43m)\u001b[49m\u001b[43m)\u001b[49m\n\u001b[0;32m     14\u001b[0m image\u001b[38;5;241m=\u001b[39mnp\u001b[38;5;241m.\u001b[39mexpand_dims(image_resized,axis\u001b[38;5;241m=\u001b[39m\u001b[38;5;241m0\u001b[39m)\n\u001b[0;32m     15\u001b[0m \u001b[38;5;28;01mreturn\u001b[39;00m image\n",
      "\u001b[1;31merror\u001b[0m: OpenCV(4.6.0) D:\\a\\opencv-python\\opencv-python\\opencv\\modules\\imgproc\\src\\resize.cpp:4052: error: (-215:Assertion failed) !ssize.empty() in function 'cv::resize'\n"
     ]
    }
   ],
   "source": [
    "import cv2\n",
    "import numpy as np\n",
    "\n",
    "img_path = 'samples/38.png'\n",
    "\n",
    "# image_resized= cv2.resize(image, (224,224))\n",
    "# image=np.expand_dims(image_resized,axis=0)\n",
    "\n",
    "def prepare(file):\n",
    "    IMG_SIZE = 224\n",
    "    \n",
    "    image = cv2.imread(file)\n",
    "    image_resized= cv2.resize(image, (224,224))\n",
    "    image=np.expand_dims(image_resized,axis=0)\n",
    "    return image\n",
    "    \n",
    "# def prepare(file):\n",
    "# #     IMG_SIZE_X = 100\n",
    "# #     IMG_SIZE_Y = 140\n",
    "#     img_array = cv2.imread(file, cv2.IMREAD_GRAYSCALE)\n",
    "# #     new_array = cv2.resize(img_array, (IMG_SIZE_X, IMG_SIZE_Y))\n",
    "#     return img_array.reshape(-1, 100, 140, 1)\n",
    "img_file = prepare(img_path)\n",
    "pred = model.predict(img_file)\n",
    "output_class = class_names[np.argmax(pred)]"
   ]
  },
  {
   "cell_type": "code",
   "execution_count": 14,
   "id": "2b45c609",
   "metadata": {},
   "outputs": [
    {
     "data": {
      "text/plain": [
       "array([[5.39534772e-03, 2.23994642e-19, 5.53604895e-15, 5.30124709e-08,\n",
       "        2.53723431e-11, 4.03534628e-08, 9.42880553e-14, 3.90411659e-09,\n",
       "        6.61538478e-13, 1.96830197e-09, 8.73548248e-11, 1.46658196e-12,\n",
       "        2.35407545e-15, 1.98553773e-09, 1.96657355e-15, 3.27455667e-11,\n",
       "        2.36616149e-08, 1.27133262e-10, 6.43658793e-10, 4.11453954e-10,\n",
       "        1.07126215e-13, 1.06085193e-12, 6.41042108e-09, 1.56682152e-08,\n",
       "        8.24216073e-08, 1.78737407e-12, 8.02472916e-14, 5.31539646e-10,\n",
       "        6.32427305e-11, 8.56366866e-10, 4.36245662e-09, 2.95314076e-05,\n",
       "        5.25638699e-10, 1.20755267e-10, 9.73604131e-09, 9.83423233e-01,\n",
       "        4.18168350e-15, 3.57155169e-13, 2.58432520e-09, 9.52717679e-12,\n",
       "        9.41191292e-11, 7.20846094e-09, 2.04406266e-15, 8.95975351e-13,\n",
       "        4.55646116e-08, 7.59329318e-12, 5.11165240e-07, 7.71869073e-14,\n",
       "        5.27132366e-11, 1.37637091e-12, 2.14046381e-08, 8.73736500e-11,\n",
       "        9.63369365e-15, 4.95187467e-11, 2.09648249e-12, 1.37962549e-11,\n",
       "        4.63401628e-09, 3.21026272e-09, 9.36928451e-11, 2.50002574e-13,\n",
       "        5.21280630e-10, 8.34733783e-06, 5.03172374e-12, 1.64444673e-12,\n",
       "        4.22107800e-11, 2.72623634e-12, 2.34977615e-09, 3.69857817e-13,\n",
       "        9.90534044e-11, 2.16072333e-08, 5.24692269e-13, 8.22597402e-14,\n",
       "        5.00048447e-09, 1.98175147e-08, 9.68825280e-12, 1.60474265e-08,\n",
       "        6.20123899e-08, 2.98180369e-10, 5.80331980e-05, 1.97892518e-07,\n",
       "        2.54620935e-10, 1.76792170e-09, 3.38714557e-07, 1.30219641e-10,\n",
       "        5.83737756e-13, 4.67291733e-13, 3.68237996e-10, 6.30157402e-08,\n",
       "        8.56015259e-11, 1.46209517e-10, 1.89578540e-08, 6.73089318e-08,\n",
       "        2.17743011e-11, 9.92961191e-07, 1.02672137e-09, 3.99220113e-07,\n",
       "        3.61040191e-12, 3.35605428e-08, 9.15379985e-07, 7.38126710e-06,\n",
       "        2.60775956e-10, 1.11510315e-06, 9.42665065e-06, 1.84779747e-05,\n",
       "        1.83775992e-04, 3.95105870e-19, 1.66502209e-15, 5.17313091e-16,\n",
       "        4.64144541e-17, 3.72395528e-13, 2.26670468e-19, 3.39391364e-14,\n",
       "        2.35281803e-08, 1.24183385e-19, 3.74995292e-15, 1.39192741e-10,\n",
       "        2.09635590e-11, 5.83605662e-08, 1.48302049e-16, 6.89598378e-11,\n",
       "        2.62796382e-12, 1.18541899e-10, 5.56783852e-15, 2.49281300e-07,\n",
       "        5.38977973e-10, 1.18531807e-09, 3.94391122e-07, 4.66788777e-08,\n",
       "        1.18428054e-13, 2.67072355e-08, 1.33091598e-05, 5.08616656e-11,\n",
       "        1.05802522e-08, 6.56800268e-08, 6.51515369e-11, 4.92049734e-10,\n",
       "        8.66179835e-06, 5.63228186e-10, 1.56113291e-08, 1.03641618e-02,\n",
       "        1.69566294e-09, 3.56159796e-10, 7.03937776e-14, 3.67238897e-08,\n",
       "        5.76101389e-09, 2.19396293e-06, 3.24094999e-13, 3.34729295e-04,\n",
       "        2.35123885e-08, 6.67811008e-14, 2.30976932e-10, 3.27133071e-10,\n",
       "        4.35851107e-05, 4.67312367e-09, 5.50907423e-26, 3.43002571e-10,\n",
       "        4.66585798e-12, 4.01165516e-12, 1.37179537e-15, 4.83588725e-09,\n",
       "        1.46694878e-08, 1.02808375e-08, 1.27065622e-10, 4.30762901e-13,\n",
       "        6.91685043e-11, 1.69549552e-12, 1.85080987e-12, 6.78464437e-11,\n",
       "        7.92415363e-16, 4.55014672e-12, 7.53052898e-11, 6.34191430e-13,\n",
       "        2.30666592e-06, 3.40679821e-06, 3.86039499e-11, 5.33157981e-05,\n",
       "        1.14823839e-09, 1.26940625e-10, 8.30784833e-12, 2.79785611e-10,\n",
       "        3.78706869e-16, 1.39478546e-16, 1.64076184e-07, 3.17332782e-09,\n",
       "        7.79411948e-08, 1.14052296e-08, 3.42094972e-05, 2.57092843e-16,\n",
       "        6.34990832e-19, 6.13556659e-15, 2.70421950e-13, 2.46788384e-18,\n",
       "        1.48144368e-15, 1.53288352e-12, 3.64647869e-16, 1.13230206e-11,\n",
       "        2.37186072e-07, 4.01633284e-12, 1.23744459e-09, 1.55443844e-12,\n",
       "        5.78848081e-10, 2.19570924e-11, 3.57785277e-20, 2.34899482e-14,\n",
       "        4.24454869e-18, 9.27772026e-11, 1.45172457e-10, 8.77213409e-14,\n",
       "        5.55734061e-13, 2.10872042e-10, 3.19578179e-14, 1.49638704e-15,\n",
       "        4.27273885e-16, 5.07358044e-11]], dtype=float32)"
      ]
     },
     "execution_count": 14,
     "metadata": {},
     "output_type": "execute_result"
    }
   ],
   "source": [
    "pred"
   ]
  },
  {
   "cell_type": "code",
   "execution_count": 17,
   "id": "7e9c9c3a",
   "metadata": {},
   "outputs": [
    {
     "data": {
      "text/plain": [
       "'vi'"
      ]
     },
     "execution_count": 17,
     "metadata": {},
     "output_type": "execute_result"
    }
   ],
   "source": [
    "output_class"
   ]
  }
 ],
 "metadata": {
  "kernelspec": {
   "display_name": "Python 3 (ipykernel)",
   "language": "python",
   "name": "python3"
  },
  "language_info": {
   "codemirror_mode": {
    "name": "ipython",
    "version": 3
   },
   "file_extension": ".py",
   "mimetype": "text/x-python",
   "name": "python",
   "nbconvert_exporter": "python",
   "pygments_lexer": "ipython3",
   "version": "3.10.5"
  }
 },
 "nbformat": 4,
 "nbformat_minor": 5
}
