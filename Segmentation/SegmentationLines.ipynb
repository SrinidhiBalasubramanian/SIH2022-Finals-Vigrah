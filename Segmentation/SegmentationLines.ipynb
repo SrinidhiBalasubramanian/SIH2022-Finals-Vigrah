{
 "cells": [
  {
   "cell_type": "code",
   "execution_count": 3,
   "id": "db7ae8f9",
   "metadata": {},
   "outputs": [],
   "source": [
    "#Line Segmentation\n",
    "import cv2 as cv\n",
    "import numpy as np\n",
    "import matplotlib.pyplot as plt\n",
    "\n",
    "img = cv.imread(\"brahmiText.jpg\", cv.IMREAD_GRAYSCALE)\n",
    "\n",
    "hProj = np.sum(img,1)\n",
    "\n",
    "def findPeakRegions(hpp, divider=0.4):\n",
    "    threshold = (np.max(hpp)-np.min(hpp))/divider\n",
    "    peaks = []\n",
    "    peaks_index = []\n",
    "    for i, hppv in enumerate(hpp):\n",
    "        if hppv > threshold:\n",
    "            peaks.append([i, hppv])\n",
    "    return peaks\n",
    "\n",
    "peaks = findPeakRegions(hProj)\n",
    "\n",
    "peaksIndex = np.array(peaks)[:,0].astype(int)\n",
    "\n",
    "segmentedImg = np.copy(img)\n",
    "r,c = segmentedImg.shape\n",
    "\n",
    "for ri in range(r):\n",
    "    if ri in peaksIndex:\n",
    "        segmentedImg[ri, :] = 0     \n",
    "\n",
    "hProjLines = np.sum(segmentedImg,1)\n",
    "\n",
    "lines = []\n",
    "lIndexB = []\n",
    "lIndexE = []\n",
    "\n",
    "for ri in range(len(hProjLines)):\n",
    "    if hProjLines[ri]!=0 and hProjLines[ri-1]==0 and hProjLines[ri-2]==0:\n",
    "        lIndexB.append(ri)\n",
    "    if hProjLines[ri]!=0 and hProjLines[ri+1]==0 and hProjLines[ri+2]==0:\n",
    "        lIndexE.append(ri)\n",
    "        \n",
    "for i in range(len(lIndexB)):\n",
    "    lines.append(img[lIndexB[i]:lIndexE[i],:])\n",
    "    cv.imwrite(\"lines\\\\line{}.jpg\".format(i+1),lines[i])"
   ]
  }
 ],
 "metadata": {
  "kernelspec": {
   "display_name": "Python 3 (ipykernel)",
   "language": "python",
   "name": "python3"
  },
  "language_info": {
   "codemirror_mode": {
    "name": "ipython",
    "version": 3
   },
   "file_extension": ".py",
   "mimetype": "text/x-python",
   "name": "python",
   "nbconvert_exporter": "python",
   "pygments_lexer": "ipython3",
   "version": "3.9.7"
  }
 },
 "nbformat": 4,
 "nbformat_minor": 5
}
