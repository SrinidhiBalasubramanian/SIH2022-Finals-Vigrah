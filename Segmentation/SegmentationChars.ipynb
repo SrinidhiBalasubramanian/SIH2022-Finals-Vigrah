{
 "cells": [
  {
   "cell_type": "code",
   "execution_count": 1,
   "id": "ec9eba40",
   "metadata": {},
   "outputs": [],
   "source": [
    "#Character segmentation\n",
    "import cv2 as cv\n",
    "import numpy as np\n",
    "import matplotlib.pyplot as plt\n",
    "\n",
    "img = cv.imread(\"lines\\\\line1.jpg\", cv.IMREAD_GRAYSCALE)\n",
    "\n",
    "vProj = np.sum(img,0)\n",
    "\n",
    "def findPeakRegions(vpp, divider=0.88):\n",
    "    threshold = (np.max(vpp)-np.min(vpp))/divider\n",
    "    peaks = []\n",
    "    peaks_index = []\n",
    "    for i, vppv in enumerate(vpp):\n",
    "        if vppv > threshold:\n",
    "            peaks.append([i, vppv])\n",
    "    return peaks\n",
    "\n",
    "peaks = findPeakRegions(vProj)\n",
    "\n",
    "peaksIndex = np.array(peaks)[:,0].astype(int)\n",
    "\n",
    "segmentedImg = np.copy(img)\n",
    "r,c = segmentedImg.shape\n",
    "\n",
    "for ci in range(c):\n",
    "    if ci in peaksIndex:\n",
    "        segmentedImg[:,ci] = 0     \n",
    "\n",
    "vProjLines = np.sum(segmentedImg,0)\n",
    "\n",
    "chars = []\n",
    "charsB = []\n",
    "charsE = []\n",
    "\n",
    "for ci in range(len(vProjLines)):\n",
    "    if vProjLines[ci]!=0 and vProjLines[ci-1]==0:\n",
    "        charsB.append(ci)\n",
    "    if vProjLines[ci]!=0 and vProjLines[ci+1]==0:\n",
    "        charsE.append(ci)\n",
    "        \n",
    "for i in range(len(charsB)):\n",
    "    chars.append(img[:,charsB[i]:charsE[i]])\n",
    "    cv.imwrite(\"characters\\\\char{}.jpg\".format(i+1),chars[i])"
   ]
  }
 ],
 "metadata": {
  "kernelspec": {
   "display_name": "Python 3 (ipykernel)",
   "language": "python",
   "name": "python3"
  },
  "language_info": {
   "codemirror_mode": {
    "name": "ipython",
    "version": 3
   },
   "file_extension": ".py",
   "mimetype": "text/x-python",
   "name": "python",
   "nbconvert_exporter": "python",
   "pygments_lexer": "ipython3",
   "version": "3.9.7"
  }
 },
 "nbformat": 4,
 "nbformat_minor": 5
}
